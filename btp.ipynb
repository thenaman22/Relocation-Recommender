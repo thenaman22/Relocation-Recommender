{
 "cells": [
  {
   "cell_type": "code",
   "execution_count": 7,
   "metadata": {},
   "outputs": [
    {
     "name": "stdout",
     "output_type": "stream",
     "text": [
      "Requirement already satisfied: selenium in c:\\users\\varun\\appdata\\local\\packages\\pythonsoftwarefoundation.python.3.10_qbz5n2kfra8p0\\localcache\\local-packages\\python310\\site-packages (4.7.2)\n",
      "Collecting selenium\n",
      "  Downloading selenium-4.14.0-py3-none-any.whl (9.9 MB)\n",
      "     ---------------------------------------- 0.0/9.9 MB ? eta -:--:--\n",
      "     ---------------------------------------- 0.0/9.9 MB 1.3 MB/s eta 0:00:08\n",
      "     ---------------------------------------- 0.1/9.9 MB 1.1 MB/s eta 0:00:10\n",
      "      --------------------------------------- 0.2/9.9 MB 1.5 MB/s eta 0:00:07\n",
      "     - -------------------------------------- 0.3/9.9 MB 1.6 MB/s eta 0:00:06\n",
      "     - -------------------------------------- 0.4/9.9 MB 1.7 MB/s eta 0:00:06\n",
      "     -- ------------------------------------- 0.7/9.9 MB 2.4 MB/s eta 0:00:04\n",
      "     --- ------------------------------------ 0.8/9.9 MB 2.6 MB/s eta 0:00:04\n",
      "     ----- ---------------------------------- 1.5/9.9 MB 4.0 MB/s eta 0:00:03\n",
      "     -------- ------------------------------- 2.0/9.9 MB 4.9 MB/s eta 0:00:02\n",
      "     ------------ --------------------------- 3.0/9.9 MB 6.6 MB/s eta 0:00:02\n",
      "     ----------------- ---------------------- 4.3/9.9 MB 8.4 MB/s eta 0:00:01\n",
      "     -------------------- ------------------- 5.2/9.9 MB 8.9 MB/s eta 0:00:01\n",
      "     ------------------------ --------------- 6.2/9.9 MB 10.1 MB/s eta 0:00:01\n",
      "     ----------------------------- ---------- 7.4/9.9 MB 10.9 MB/s eta 0:00:01\n",
      "     --------------------------------- ------ 8.2/9.9 MB 11.5 MB/s eta 0:00:01\n",
      "     ------------------------------------- -- 9.4/9.9 MB 12.5 MB/s eta 0:00:01\n",
      "     ---------------------------------------  9.9/9.9 MB 12.7 MB/s eta 0:00:01\n",
      "     ---------------------------------------- 9.9/9.9 MB 11.7 MB/s eta 0:00:00\n",
      "Requirement already satisfied: urllib3[socks]<3,>=1.26 in c:\\users\\varun\\appdata\\local\\packages\\pythonsoftwarefoundation.python.3.10_qbz5n2kfra8p0\\localcache\\local-packages\\python310\\site-packages (from selenium) (1.26.13)\n",
      "Requirement already satisfied: trio~=0.17 in c:\\users\\varun\\appdata\\local\\packages\\pythonsoftwarefoundation.python.3.10_qbz5n2kfra8p0\\localcache\\local-packages\\python310\\site-packages (from selenium) (0.22.0)\n",
      "Requirement already satisfied: certifi>=2021.10.8 in c:\\users\\varun\\appdata\\local\\packages\\pythonsoftwarefoundation.python.3.10_qbz5n2kfra8p0\\localcache\\local-packages\\python310\\site-packages (from selenium) (2022.12.7)\n",
      "Requirement already satisfied: trio-websocket~=0.9 in c:\\users\\varun\\appdata\\local\\packages\\pythonsoftwarefoundation.python.3.10_qbz5n2kfra8p0\\localcache\\local-packages\\python310\\site-packages (from selenium) (0.9.2)\n",
      "Requirement already satisfied: sortedcontainers in c:\\users\\varun\\appdata\\local\\packages\\pythonsoftwarefoundation.python.3.10_qbz5n2kfra8p0\\localcache\\local-packages\\python310\\site-packages (from trio~=0.17->selenium) (2.4.0)\n",
      "Requirement already satisfied: attrs>=19.2.0 in c:\\users\\varun\\appdata\\local\\packages\\pythonsoftwarefoundation.python.3.10_qbz5n2kfra8p0\\localcache\\local-packages\\python310\\site-packages (from trio~=0.17->selenium) (22.1.0)\n",
      "Requirement already satisfied: outcome in c:\\users\\varun\\appdata\\local\\packages\\pythonsoftwarefoundation.python.3.10_qbz5n2kfra8p0\\localcache\\local-packages\\python310\\site-packages (from trio~=0.17->selenium) (1.2.0)\n",
      "Requirement already satisfied: exceptiongroup>=1.0.0rc9 in c:\\users\\varun\\appdata\\local\\packages\\pythonsoftwarefoundation.python.3.10_qbz5n2kfra8p0\\localcache\\local-packages\\python310\\site-packages (from trio~=0.17->selenium) (1.0.4)\n",
      "Requirement already satisfied: idna in c:\\users\\varun\\appdata\\local\\packages\\pythonsoftwarefoundation.python.3.10_qbz5n2kfra8p0\\localcache\\local-packages\\python310\\site-packages (from trio~=0.17->selenium) (3.4)\n",
      "Requirement already satisfied: sniffio in c:\\users\\varun\\appdata\\local\\packages\\pythonsoftwarefoundation.python.3.10_qbz5n2kfra8p0\\localcache\\local-packages\\python310\\site-packages (from trio~=0.17->selenium) (1.3.0)\n",
      "Requirement already satisfied: async-generator>=1.9 in c:\\users\\varun\\appdata\\local\\packages\\pythonsoftwarefoundation.python.3.10_qbz5n2kfra8p0\\localcache\\local-packages\\python310\\site-packages (from trio~=0.17->selenium) (1.10)\n",
      "Requirement already satisfied: cffi>=1.14 in c:\\users\\varun\\appdata\\local\\packages\\pythonsoftwarefoundation.python.3.10_qbz5n2kfra8p0\\localcache\\local-packages\\python310\\site-packages (from trio~=0.17->selenium) (1.15.1)\n",
      "Requirement already satisfied: wsproto>=0.14 in c:\\users\\varun\\appdata\\local\\packages\\pythonsoftwarefoundation.python.3.10_qbz5n2kfra8p0\\localcache\\local-packages\\python310\\site-packages (from trio-websocket~=0.9->selenium) (1.2.0)\n",
      "Requirement already satisfied: PySocks!=1.5.7,<2.0,>=1.5.6 in c:\\users\\varun\\appdata\\local\\packages\\pythonsoftwarefoundation.python.3.10_qbz5n2kfra8p0\\localcache\\local-packages\\python310\\site-packages (from urllib3[socks]<3,>=1.26->selenium) (1.7.1)\n",
      "Requirement already satisfied: pycparser in c:\\users\\varun\\appdata\\local\\packages\\pythonsoftwarefoundation.python.3.10_qbz5n2kfra8p0\\localcache\\local-packages\\python310\\site-packages (from cffi>=1.14->trio~=0.17->selenium) (2.21)\n",
      "Requirement already satisfied: h11<1,>=0.9.0 in c:\\users\\varun\\appdata\\local\\packages\\pythonsoftwarefoundation.python.3.10_qbz5n2kfra8p0\\localcache\\local-packages\\python310\\site-packages (from wsproto>=0.14->trio-websocket~=0.9->selenium) (0.14.0)\n",
      "Installing collected packages: selenium\n",
      "  Attempting uninstall: selenium\n",
      "    Found existing installation: selenium 4.7.2\n",
      "    Uninstalling selenium-4.7.2:\n",
      "      Successfully uninstalled selenium-4.7.2\n",
      "Successfully installed selenium-4.14.0\n"
     ]
    },
    {
     "name": "stderr",
     "output_type": "stream",
     "text": [
      "\n",
      "[notice] A new release of pip is available: 23.0.1 -> 23.2.1\n",
      "[notice] To update, run: C:\\Users\\varun\\AppData\\Local\\Microsoft\\WindowsApps\\PythonSoftwareFoundation.Python.3.10_qbz5n2kfra8p0\\python.exe -m pip install --upgrade pip\n"
     ]
    }
   ],
   "source": [
    "!pip3 install -U selenium"
   ]
  },
  {
   "cell_type": "code",
   "execution_count": 8,
   "metadata": {},
   "outputs": [
    {
     "name": "stdout",
     "output_type": "stream",
     "text": [
      "Collecting webdriver-manager\n",
      "  Downloading webdriver_manager-4.0.1-py2.py3-none-any.whl (27 kB)\n",
      "Requirement already satisfied: requests in c:\\users\\varun\\appdata\\local\\packages\\pythonsoftwarefoundation.python.3.10_qbz5n2kfra8p0\\localcache\\local-packages\\python310\\site-packages (from webdriver-manager) (2.28.1)\n",
      "Requirement already satisfied: python-dotenv in c:\\users\\varun\\appdata\\local\\packages\\pythonsoftwarefoundation.python.3.10_qbz5n2kfra8p0\\localcache\\local-packages\\python310\\site-packages (from webdriver-manager) (1.0.0)\n",
      "Requirement already satisfied: packaging in c:\\users\\varun\\appdata\\local\\packages\\pythonsoftwarefoundation.python.3.10_qbz5n2kfra8p0\\localcache\\local-packages\\python310\\site-packages (from webdriver-manager) (22.0)\n",
      "Requirement already satisfied: idna<4,>=2.5 in c:\\users\\varun\\appdata\\local\\packages\\pythonsoftwarefoundation.python.3.10_qbz5n2kfra8p0\\localcache\\local-packages\\python310\\site-packages (from requests->webdriver-manager) (3.4)\n",
      "Requirement already satisfied: certifi>=2017.4.17 in c:\\users\\varun\\appdata\\local\\packages\\pythonsoftwarefoundation.python.3.10_qbz5n2kfra8p0\\localcache\\local-packages\\python310\\site-packages (from requests->webdriver-manager) (2022.12.7)\n",
      "Requirement already satisfied: urllib3<1.27,>=1.21.1 in c:\\users\\varun\\appdata\\local\\packages\\pythonsoftwarefoundation.python.3.10_qbz5n2kfra8p0\\localcache\\local-packages\\python310\\site-packages (from requests->webdriver-manager) (1.26.13)\n",
      "Requirement already satisfied: charset-normalizer<3,>=2 in c:\\users\\varun\\appdata\\local\\packages\\pythonsoftwarefoundation.python.3.10_qbz5n2kfra8p0\\localcache\\local-packages\\python310\\site-packages (from requests->webdriver-manager) (2.1.1)\n",
      "Installing collected packages: webdriver-manager\n",
      "Successfully installed webdriver-manager-4.0.1\n"
     ]
    },
    {
     "name": "stderr",
     "output_type": "stream",
     "text": [
      "\n",
      "[notice] A new release of pip is available: 23.0.1 -> 23.2.1\n",
      "[notice] To update, run: C:\\Users\\varun\\AppData\\Local\\Microsoft\\WindowsApps\\PythonSoftwareFoundation.Python.3.10_qbz5n2kfra8p0\\python.exe -m pip install --upgrade pip\n"
     ]
    }
   ],
   "source": [
    "!pip3 install webdriver-manager"
   ]
  },
  {
   "cell_type": "code",
   "execution_count": 1,
   "metadata": {},
   "outputs": [],
   "source": [
    "from selenium import webdriver\n",
    "from selenium.webdriver.chrome.service import Service\n",
    "from webdriver_manager.chrome import ChromeDriverManager\n",
    "from selenium.webdriver.chrome.options import Options\n",
    "from selenium.common.exceptions import NoSuchElementException\n",
    "from selenium.webdriver.chrome.options import Options\n",
    "import pandas as pd"
   ]
  },
  {
   "cell_type": "code",
   "execution_count": 30,
   "metadata": {},
   "outputs": [],
   "source": [
    "\n",
    "cities = [\"Mumbai\",\"Chennai\",\"Kolkata\",\"New Delhi\",\"Lucknow\",\"Hyderabad\",\"Jammu\",\"Dehradun\",\"Bhopal\",\"Bangalore\",\"Ranchi\",\"Patna\",\"Indore\",\"Amritsar\",\"Pune\",\"Ahmedabad\",\"Aurangabad\",\"Varanasi\",\"Jaipur\",\"Chandigarh\",\"Guwahati\",\"Mysore\",\"Thiruvananthapuram\",\"Visakhapatnam\",\"Coimbatore\",\"Surat\",\"Nagpur\",\"Kota\",\"Ludhiana\",\"Allahabad\"]\n",
    "states = [\"Maharashtra\",\"Tamil Nadu\",\"West Bengal\",\"Delhi\",\"Uttar Pradesh\",\"Telangana\",\"Jammu & Kashmir\",\"Uttarakhand\",\"Madhya Pradesh\",\"Karnataka\",\"Jharkhand\",\"Bihar\",\"Madhya Pradesh\",\"Punjab\",\"Maharashtra\",\"Gujarat\",\"Maharashtra\",\"Uttar Pradesh\",\"Rajasthan\",\"Chandigarh\",\"Assam\",\"Karnataka\",\"Kerela\",\"Andhra Pradesh\",\"Tamil Nadu\",\"Gujarat\",\"Maharashtra\",\"Rajasthan\",\"Punjab\",\"Uttar Pradesh\"]"
   ]
  },
  {
   "cell_type": "code",
   "execution_count": 31,
   "metadata": {},
   "outputs": [
    {
     "data": {
      "text/plain": [
       "30"
      ]
     },
     "execution_count": 31,
     "metadata": {},
     "output_type": "execute_result"
    }
   ],
   "source": [
    "len(cities)"
   ]
  },
  {
   "attachments": {},
   "cell_type": "markdown",
   "metadata": {},
   "source": [
    "Creating Map of cities to Index and states to Index"
   ]
  },
  {
   "cell_type": "code",
   "execution_count": 32,
   "metadata": {},
   "outputs": [
    {
     "name": "stdout",
     "output_type": "stream",
     "text": [
      "{'Mumbai': 0, 'Chennai': 1, 'Kolkata': 2, 'New Delhi': 3, 'Lucknow': 4, 'Hyderabad': 5, 'Jammu': 6, 'Dehradun': 7, 'Bhopal': 8, 'Bangalore': 9, 'Ranchi': 10, 'Patna': 11, 'Indore': 12, 'Amritsar': 13, 'Pune': 14, 'Ahmedabad': 15, 'Aurangabad': 16, 'Varanasi': 17, 'Jaipur': 18, 'Chandigarh': 19, 'Guwahati': 20, 'Mysore': 21, 'Thiruvananthapuram': 22, 'Visakhapatnam': 23, 'Coimbatore': 24, 'Surat': 25, 'Nagpur': 26, 'Kota': 27, 'Ludhiana': 28, 'Allahabad': 29, 'Maharashtra': 26, 'Tamil Nadu': 24, 'West Bengal': 2, 'Delhi': 3, 'Uttar Pradesh': 29, 'Telangana': 5, 'Jammu & Kashmir': 6, 'Uttarakhand': 7, 'Madhya Pradesh': 12, 'Karnataka': 21, 'Jharkhand': 10, 'Bihar': 11, 'Punjab': 28, 'Gujarat': 25, 'Rajasthan': 27, 'Assam': 20, 'Kerela': 22, 'Andhra Pradesh': 23}\n"
     ]
    }
   ],
   "source": [
    "a = 0\n",
    "dict = {}\n",
    "for i in cities:\n",
    "    dict.update({i : a})\n",
    "    a = a + 1\n",
    "a= 0\n",
    "for i in states:\n",
    "    dict.update({i:a})\n",
    "    a = a + 1\n",
    "print(dict)"
   ]
  },
  {
   "attachments": {},
   "cell_type": "markdown",
   "metadata": {},
   "source": [
    "Dynamically Finding AQI of all cities considered."
   ]
  },
  {
   "cell_type": "code",
   "execution_count": 33,
   "metadata": {},
   "outputs": [
    {
     "name": "stdout",
     "output_type": "stream",
     "text": [
      "179\n",
      "62\n",
      "60\n",
      "New Delhi Not Found\n",
      "395\n",
      "220\n",
      "157\n",
      "Jammu Not Found\n",
      "125\n",
      "66\n",
      "280\n",
      "125\n",
      "Ranchi Not Found\n",
      "157\n",
      "132\n",
      "117\n",
      "269\n",
      "193\n",
      "108\n",
      "147\n",
      "68\n",
      "330\n",
      "155\n",
      "Guwahati Not Found\n",
      "148\n",
      "64\n",
      "48\n",
      "122\n",
      "Coimbatore Not Found\n",
      "50\n",
      "156\n",
      "266\n",
      "291\n",
      "223\n",
      "148\n",
      "[179, 62, 60, 395, 220, 157, 125, 66, 280, 125, 157, 132, 117, 269, 193, 108, 147, 68, 330, 155, 148, 64, 48, 122, 50, 156, 266, 291, 223, 148]\n"
     ]
    }
   ],
   "source": [
    "aqi_list = [0]*len(cities)\n",
    "op = webdriver.ChromeOptions()\n",
    "op.add_argument = {'user-data-dir':'/Users/Application/Chrome/Default'}\n",
    "#finding aqi\n",
    "DRIVER_PATH = \"/path/to/chromedriver\"\n",
    "driver = webdriver.Chrome(service=Service(ChromeDriverManager().install()),options=op)\n",
    "for i in range(len(cities)):\n",
    "    try:\n",
    "        driver.get(\"https://www.google.com/search?q=\"+cities[i]+\"+District+aqi\")\n",
    "        aqi = driver.find_element(\"xpath\",\"//span[@class = 'pnbfad']\")\n",
    "        print(aqi.text)\n",
    "        aqi_list[i] = int(aqi.text)\n",
    "    except:\n",
    "        print(cities[i] + \" Not Found\")\n",
    "        if(cities[i] == \"Jammu\"):\n",
    "            driver.get(\"https://www.google.com/search?q=Jammu+and+Kashmir\"+\"+aqi\")\n",
    "        else:\n",
    "            driver.get(\"https://www.google.com/search?q=\"+states[i]+\"+aqi\")\n",
    "        aqi = driver.find_element(\"xpath\",\"//span[@class = 'pnbfad']\")\n",
    "        print(aqi.text)\n",
    "        aqi_list[i] = int(aqi.text)\n",
    "print(aqi_list)\n",
    "driver.quit()\n"
   ]
  },
  {
   "cell_type": "code",
   "execution_count": 34,
   "metadata": {},
   "outputs": [
    {
     "name": "stdout",
     "output_type": "stream",
     "text": [
      "[179, 62, 60, 395, 220, 157, 125, 66, 280, 125, 157, 132, 117, 269, 193, 108, 147, 68, 330, 155, 148, 64, 48, 122, 50, 156, 266, 291, 223, 148]\n",
      "[1.8876080691642652, 0.20172910662824206, 0.1729106628242075, 5.0, 2.478386167146974, 1.5706051873198847, 1.1095100864553316, 0.25936599423631124, 3.3429394812680115, 1.1095100864553316, 1.5706051873198847, 1.2103746397694524, 0.994236311239193, 3.184438040345821, 2.089337175792507, 0.8645533141210375, 1.4265129682997117, 0.2881844380403458, 4.063400576368876, 1.5417867435158503, 1.440922190201729, 0.23054755043227665, 0.0, 1.0662824207492796, 0.02881844380403458, 1.5561959654178676, 3.1412103746397695, 3.5014409221902016, 2.521613832853026, 1.440922190201729]\n"
     ]
    }
   ],
   "source": [
    "print(aqi_list)\n",
    "maxi = max(aqi_list)\n",
    "mini = min(aqi_list)\n",
    "for i in range(len(aqi_list)):\n",
    "    aqi_list[i] = ((aqi_list[i] - mini)/(maxi - mini))*5\n",
    "print(aqi_list)\n"
   ]
  },
  {
   "attachments": {},
   "cell_type": "markdown",
   "metadata": {},
   "source": [
    "Collecting Population Density of each city. Step 1: Get population of each city (Also get literacy rate as it will be needed in some other category)"
   ]
  },
  {
   "cell_type": "code",
   "execution_count": 36,
   "metadata": {},
   "outputs": [
    {
     "name": "stdout",
     "output_type": "stream",
     "text": [
      "[12442373, 4646732, 4496694, 11034555, 2817105, 6731790, 502197, 569578, 1798218, 8443675, 1073427, 1684222, 1964086, 1132383, 3124458, 5577940, 102244, 1198491, 3046163, 961587, 957352, 893062, 743691, 1728128, 1050721, 4467797, 2405665, 1001694, 1618879, 1112544]\n",
      "[89.73, 90.18, 86.31, 87.59, 82.5, 83.26, 90.14, 88.36, 83.47, 88.71, 87.37, 83.37, 85.87, 84.19, 89.56, 88.29, 86.03, 79.27, 83.33, 86.42, 91.47, 87.67, 95.1, 81.79, 91.3, 87.89, 91.92, 82.8, 85.77, 84.76]\n",
      "[3.3038534428300723, 3.4459886291850954, 2.2236260265319037, 2.627921667719523, 1.0202147820593823, 1.2602653190145325, 3.43335439039798, 2.871130764371448, 1.326595072646874, 2.9816803537586853, 2.558433354390401, 1.295009475679093, 2.0846493998736606, 1.5540113708149093, 3.2501579279848416, 2.849020846494002, 2.1351863550221117, 0.0, 1.282375236891978, 2.2583701831964644, 3.8534428300694894, 2.653190145293748, 5.0, 0.7959570435881271, 3.7997473152242582, 2.7226784586228696, 3.9955780164245125, 1.1149715729627294, 2.053063802905875, 1.734049273531273]\n"
     ]
    }
   ],
   "source": [
    "\n",
    "# options = Options()\n",
    "# options.headless = True\n",
    "# options.add_argument(\"--window-size=1920,1200\")\n",
    "pop_list = [0]*len(cities)\n",
    "lit_rate = [0.0]*len(cities)\n",
    "DRIVER_PATH = \"/path/to/chromedriver\"\n",
    "driver = webdriver.Chrome(service=Service(ChromeDriverManager().install()))\n",
    "driver.get(\"https://www.census2011.co.in/city.php\")\n",
    "i = 1\n",
    "for i in range(1,499):\n",
    "    ele1 = driver.find_element(\"xpath\",\"//table/tbody/tr[\"+str(i)+\"]/td[2]\")\n",
    "    ele2 = driver.find_element(\"xpath\",\"//table/tbody/tr[\"+str(i)+\"]/td[4]\")\n",
    "    ele3 = driver.find_element(\"xpath\",\"//table/tbody/tr[\"+str(i)+\"]/td[7]\")\n",
    "    city = ele1.text\n",
    "    pop = ele2.text\n",
    "    lit = ele3.text\n",
    "    population = \"\"\n",
    "    for element in pop:\n",
    "        if element != ',':\n",
    "            population = population + element\n",
    "    if(city in dict):\n",
    "        pop_list[dict[city]] = int(population)\n",
    "        lit_rate[dict[city]] = float(lit)\n",
    "print(pop_list)\n",
    "print(lit_rate)\n",
    "#normalizing\n",
    "maxi = max(lit_rate)\n",
    "mini = min(lit_rate)\n",
    "for i in range(len(lit_rate)):\n",
    "    lit_rate[i] = ((lit_rate[i] - mini)/(maxi - mini))*5\n",
    "print(lit_rate)\n",
    "        "
   ]
  },
  {
   "attachments": {},
   "cell_type": "markdown",
   "metadata": {},
   "source": [
    "Step 2: Get area of city."
   ]
  },
  {
   "cell_type": "code",
   "execution_count": 37,
   "metadata": {},
   "outputs": [
    {
     "name": "stdout",
     "output_type": "stream",
     "text": [
      "[157.0, 426.0, 206.1, 42.7, 2528.0, 217.0, 26293.0, 3088.0, 2772.0, 2196.0, 5097.0, 3202.0, 3898.0, 2683.0, 15643.0, 8087.0, 10100.0, 1535.0, 11143.0, 114.0, 216.0, 6854.0, 2192.0, 1048.0, 4723.0, 4418.0, 9892.0, 5217.0, 3767.0, 5482.0]\n"
     ]
    }
   ],
   "source": [
    "area_list = [0.0]*len(cities)\n",
    "options = webdriver.ChromeOptions\n",
    "# options.headless = True\n",
    "# options.add_argument = {'user-data-dir':'<path of specific Chrome profile>'}\n",
    "\n",
    "DRIVER_PATH = \"/path/to/chromedriver\"\n",
    "driver = webdriver.Chrome(service=Service(ChromeDriverManager().install()))\n",
    "for i in cities:\n",
    "    if( i != \"New Delhi\"):\n",
    "        driver.get(\"https://www.google.com/search?q=Area+of+\"+i+\"+District\")\n",
    "    else:\n",
    "        driver.get(\"https://www.google.com/search?q=Area+of+\"+i)\n",
    "    area = driver.find_element(\"xpath\",\"//div[@class = 'Z0LcW t2b5Cf']\")\n",
    "    a = \"\"\n",
    "    for ele in area.text:\n",
    "        if ele == \" \":\n",
    "            break\n",
    "        if(ele == \",\"):\n",
    "            continue\n",
    "        a = a + ele\n",
    "    area_list[dict[i]] = float(a)\n",
    "driver.quit()\n",
    "print(area_list)"
   ]
  },
  {
   "attachments": {},
   "cell_type": "markdown",
   "metadata": {},
   "source": [
    "Step 3: Calculate Population Density"
   ]
  },
  {
   "cell_type": "code",
   "execution_count": 38,
   "metadata": {},
   "outputs": [
    {
     "name": "stdout",
     "output_type": "stream",
     "text": [
      "[79250.78343949045, 10907.821596244132, 21818.02037845706, 258420.49180327868, 1114.361155063291, 31022.073732718894, 19.100026623055566, 184.4488341968912, 648.7077922077922, 3845.0250455373407, 210.59976456739258, 525.9906308557152, 503.8701898409441, 422.0585165859113, 199.73521702998147, 689.7415605292445, 10.123168316831682, 780.7758957654723, 273.3700978192587, 8434.973684210527, 4432.185185185185, 130.2979282170995, 339.2750912408759, 1648.9770992366412, 222.46898157950454, 1011.2713897691264, 243.19298422968055, 192.00575043128234, 429.75285372975844, 202.9449106165633]\n",
      "[1.5332329869300123, 0.21086031658663265, 0.42196250338829683, 5.0, 0.021365976771356626, 0.6000523649306515, 0.00017369384892803704, 0.003373039301807528, 0.012356017818949135, 0.07420178024353591, 0.0038790354525936243, 0.009981555021648787, 0.009553545086683306, 0.007970565392656354, 0.0036688165748681974, 0.013149983025109606, 0.0, 0.014911412640281622, 0.005093582948954681, 0.1630130122176887, 0.08556278217912938, 0.0023252696967053644, 0.006368783200588479, 0.031710297453948204, 0.004108693749101044, 0.01937128581064304, 0.0045096839020823155, 0.0035192585939030838, 0.008119443651382815, 0.003730921156885104]\n"
     ]
    }
   ],
   "source": [
    "pop_density = [0.0]*len(cities)\n",
    "for i in range(0,len(cities)):\n",
    "    pop_density[i] = (float(pop_list[i]))/area_list[i]\n",
    "print(pop_density)\n",
    "#normalizing\n",
    "maxi = max(pop_density)\n",
    "mini = min(pop_density)\n",
    "for i in range(len(pop_density)):\n",
    "    pop_density[i] = ((pop_density[i] - mini)/(maxi - mini))*5\n",
    "print(pop_density)"
   ]
  },
  {
   "attachments": {},
   "cell_type": "markdown",
   "metadata": {},
   "source": [
    "Collecting Crime Rate of Indian Cities."
   ]
  },
  {
   "cell_type": "code",
   "execution_count": 40,
   "metadata": {},
   "outputs": [
    {
     "name": "stdout",
     "output_type": "stream",
     "text": [
      "[44.99, 39.75, 46.07, 59.31, 46.47, 43.0, 41.26, 34.89, 44.1, 53.4, 51.27, 51.26, 49.13, 35.38, 41.98, 32.09, 38.85, 36.32, 34.51, 42.68, 45.16, 49.9, 38.84, 36.61, 37.6, 34.03, 38.41, 38.64, 54.42, 38.5]\n",
      "[2.369581190301249, 1.407053637031594, 2.5679647318148415, 5.0, 2.6414401175606166, 2.004041146216017, 1.6844232182218946, 0.5143277002204256, 2.206098457016899, 3.914401175606171, 3.523144746509919, 3.521307861866274, 3.130051432770022, 0.6043350477590006, 1.81667891256429, 0.0, 1.2417340191036, 0.7770022042615718, 0.4445260837619388, 1.945260837619397, 2.4008082292432023, 3.2714915503306385, 1.239897134459956, 0.8302718589272586, 1.0121234386480524, 0.3563556208670091, 1.1609110947832464, 1.203159441587068, 4.101763409257899, 1.1774430565760465]\n"
     ]
    }
   ],
   "source": [
    "crime_rate = [0.0]*len(cities)\n",
    "DRIVER_PATH = \"/path/to/chromedriver\"\n",
    "driver = webdriver.Chrome(service=Service(ChromeDriverManager().install()))\n",
    "for i in cities:\n",
    "    # try:\n",
    "    #     flag = driver.find_element(\"xpath\",\"html/body/div[3]/div[4]/form[0]/table[0]/tbody[0]/tr[0]/td[0]\")\n",
    "    #     if(flag.text == \"Your Email Address:\"):\n",
    "    #         print(\"Pop-up\")\n",
    "    # except:\n",
    "    #     print(\"No Pop-up\")\n",
    "    try:\n",
    "        if i == \"Lucknow\":\n",
    "            driver.get(\"https://www.numbeo.com/crime/in/Lucknow-Lakhnau\")\n",
    "        elif i == \"New Delhi\":\n",
    "            driver.get(\"https://www.numbeo.com/crime/in/Delhi\")\n",
    "        elif i == \"Kota\":\n",
    "            driver.get(\"https://www.numbeo.com/crime/in/Kota-India\")\n",
    "        elif i == \"Allahabad\":\n",
    "            driver.get(\"https://www.numbeo.com/crime/in/Allahabad-India\")\n",
    "        else:\n",
    "            driver.get(\"https://www.numbeo.com/crime/in/\" + i)\n",
    "        crime = driver.find_element(\"xpath\",\"html/body/div[2]/aside[2]/table/tbody/tr[2]/td[2]\")\n",
    "        crime_rate[dict[i]] = float(crime.text)\n",
    "    except:\n",
    "        if i == \"Kota\":\n",
    "            driver.get(\"https://www.numbeo.com/crime/in/Kota-India\")\n",
    "        elif i == \"Allahabad\":\n",
    "            driver.get(\"https://www.numbeo.com/crime/in/Allahabad-India\")\n",
    "        else:\n",
    "            driver.get(\"https://www.numbeo.com/crime/in/\" + i)\n",
    "        crime = driver.find_element(\"xpath\",\"html/body/div[2]/aside[1]/table/tbody/tr[2]/td[2]\")\n",
    "        crime_rate[dict[i]] = float(crime.text)\n",
    "            \n",
    "        \n",
    "\n",
    "\n",
    "print(crime_rate)    \n",
    "#normalizing\n",
    "maxi = max(crime_rate)\n",
    "mini = min(crime_rate)\n",
    "for i in range(len(crime_rate)):\n",
    "    crime_rate[i] = ((crime_rate[i] - mini)/(maxi - mini))*5\n",
    "print(crime_rate)"
   ]
  },
  {
   "attachments": {},
   "cell_type": "markdown",
   "metadata": {},
   "source": [
    "Collecting the Property Price per Income Ratio"
   ]
  },
  {
   "cell_type": "code",
   "execution_count": 27,
   "metadata": {},
   "outputs": [
    {
     "name": "stdout",
     "output_type": "stream",
     "text": [
      "[30.79, 9.26, 10.06, 10.09, 7.56, 5.69, 25.13, 24.89, 15.64, 6.45, 10.61, 21.93, 8.72, 6.16, 6.64, 8.26, 7.57, 6.11, 14.25, 8.12, 7.04, 4.63, 6.91, 9.16, 9.94, 8.58, 10.89, 5.11]\n",
      "[5.0, 0.8849388379204892, 1.037844036697248, 1.0435779816513762, 0.5600152905198776, 0.202599388379205, 3.918195718654434, 3.872324159021407, 2.104357798165138, 0.3478593272171254, 1.142966360856269, 3.3065749235474007, 0.7817278287461775, 0.2924311926605505, 0.3841743119266055, 0.6938073394495413, 0.5619266055045873, 0.2828746177370032, 1.83868501529052, 0.6670489296636084, 0.46062691131498473, 0.0, 0.4357798165137615, 0.8658256880733946, 1.0149082568807337, 0.7549694189602446, 1.1964831804281346, 0.09174311926605512]\n"
     ]
    }
   ],
   "source": [
    "property_ratio = [0.0]*len(cities)\n",
    "# options = Options()\n",
    "# options.headless = True\n",
    "# options.add_argument(\"--window-size=1920,1200\")\n",
    "\n",
    "DRIVER_PATH = \"/path/to/chromedriver\"\n",
    "driver = webdriver.Chrome(service=Service(ChromeDriverManager().install()))\n",
    "for i in cities:\n",
    "    if i == \"Lucknow\":\n",
    "        driver.get(\"https://www.numbeo.com/property-investment/in/Lucknow-Lakhnau\")\n",
    "    elif i == \"New Delhi\":\n",
    "        driver.get(\"https://www.numbeo.com/property-investment/in/Delhi\")\n",
    "    elif i == \"Kota\":\n",
    "        driver.get(\"https://www.numbeo.com/property-investment/in/Kota-India\")\n",
    "    elif i == \"Allahabad\":\n",
    "        driver.get(\"https://www.numbeo.com/property-investment/in/Allahabad-India\")\n",
    "    else:\n",
    "        driver.get(\"https://www.numbeo.com/property-investment/in/\" + i)\n",
    "    if(i == \"Jammu\"):\n",
    "        property = 25.13\n",
    "        property_ratio[dict[i]] = property\n",
    "    else:\n",
    "        property = driver.find_element(\"xpath\",\"html/body/div[2]/div[2]/table/tbody/tr[2]/td[2]\")\n",
    "        property_ratio[dict[i]] = float(property.text)\n",
    "print(property_ratio)    \n",
    "#normalizing\n",
    "maxi = max(property_ratio)\n",
    "mini = min(property_ratio)\n",
    "for i in range(len(property_ratio)):\n",
    "    property_ratio[i] = ((property_ratio[i] - mini)/(maxi - mini))*5\n",
    "print(property_ratio)"
   ]
  },
  {
   "attachments": {},
   "cell_type": "markdown",
   "metadata": {},
   "source": [
    "Collecting Average Annual Rainfall in mm"
   ]
  },
  {
   "cell_type": "code",
   "execution_count": 28,
   "metadata": {},
   "outputs": [
    {
     "name": "stdout",
     "output_type": "stream",
     "text": [
      "[2168.0, 1541.0, 1800.0, 790.0, 979.0, 803.0, 710.0, 2220.0, 1118.0, 905.0, 1428.0, 1116.0, 1062.0, 760.0, 741.0, 789.0, 747.0, 1023.0, 609.0, 1063.0, 1722.0, 799.0, 0.0, 0.0, 640.0, 1139.0, 1094.0, 766.0]\n",
      "[4.882882882882883, 3.470720720720721, 4.054054054054054, 1.779279279279279, 2.204954954954955, 1.8085585585585586, 1.5990990990990992, 5.0, 2.518018018018018, 2.0382882882882885, 3.2162162162162162, 2.513513513513513, 2.391891891891892, 1.7117117117117118, 1.6689189189189189, 1.777027027027027, 1.6824324324324325, 2.304054054054054, 1.3716216216216215, 2.394144144144144, 3.878378378378378, 1.7995495495495495, 0.0, 0.0, 1.4414414414414414, 2.565315315315315, 2.463963963963964, 1.7252252252252251]\n"
     ]
    }
   ],
   "source": [
    "# options = Options()\n",
    "# options.headless = True\n",
    "# options.add_argument(\"--window-size=1920,1200\")\n",
    "rain_list = [0.0]*len(cities)\n",
    "DRIVER_PATH = \"/path/to/chromedriver\"\n",
    "driver = webdriver.Chrome(service=Service(ChromeDriverManager().install()))\n",
    "driver.get(\"https://www.currentresults.com/Weather/India/average-yearly-precipitation.php\")\n",
    "for i in range(1,16):\n",
    "    city = driver.find_element(\"xpath\",\"html/body/div[1]/div[@id = 'maincol']/div[1]/div[4]/table[1]/tbody/tr[\"+str(i)+\"]/td[2]\")\n",
    "    rain = driver.find_element(\"xpath\",\"html/body/div[1]/div[@id = 'maincol']/div[1]/div[4]/table[1]/tbody/tr[\"+str(i)+\"]/td[5]\")\n",
    "    if(city.text == \"New Delhi\"):\n",
    "        rain_list[dict[\"Delhi\"]] = float(rain.text)\n",
    "    if(city.text == \"Srinagar\"):\n",
    "        rain_list[dict[\"Jammu\"]] = float(rain.text)\n",
    "    if(city.text in dict):\n",
    "        rain_list[dict[city.text]] = float(rain.text)\n",
    "for i in range(1,13):\n",
    "    city = driver.find_element(\"xpath\",\"html/body/div[1]/div[@id = 'maincol']/div[1]/div[4]/table[2]/tbody/tr[\"+str(i)+\"]/td[2]\")\n",
    "    rain = driver.find_element(\"xpath\",\"html/body/div[1]/div[@id = 'maincol']/div[1]/div[4]/table[2]/tbody/tr[\"+str(i)+\"]/td[5]\")\n",
    "    if(city.text == \"Kolkata (Calcutta)\"):\n",
    "        rain_list[dict[\"Kolkata\"]] = float(rain.text)\n",
    "    if(city.text in dict):\n",
    "        rain_list[dict[city.text]] = float(rain.text)\n",
    "for i in range(1,14):\n",
    "    city = driver.find_element(\"xpath\",\"html/body/div[1]/div[@id = 'maincol']/div[1]/div[4]/table[3]/tbody/tr[\"+str(i)+\"]/td[2]\")\n",
    "    rain = driver.find_element(\"xpath\",\"html/body/div[1]/div[@id = 'maincol']/div[1]/div[4]/table[3]/tbody/tr[\"+str(i)+\"]/td[5]\")\n",
    "    if(city.text in dict):\n",
    "        rain_list[dict[city.text]] = float(rain.text)\n",
    "for i in range(1,13):\n",
    "    city = driver.find_element(\"xpath\",\"html/body/div[1]/div[@id = 'maincol']/div[1]/div[4]/table[4]/tbody/tr[\"+str(i)+\"]/td[2]\")\n",
    "    rain = driver.find_element(\"xpath\",\"html/body/div[1]/div[@id = 'maincol']/div[1]/div[4]/table[4]/tbody/tr[\"+str(i)+\"]/td[5]\")\n",
    "    if(city.text in dict):\n",
    "        rain_list[dict[city.text]] = float(rain.text)\n",
    "\n",
    "\n",
    "\n",
    "print(rain_list)\n",
    "#normalizing\n",
    "maxi = max(rain_list)\n",
    "mini = min(rain_list)\n",
    "for i in range(len(rain_list)):\n",
    "    rain_list[i] = ((rain_list[i] - mini)/(maxi - mini))*5\n",
    "print(rain_list)"
   ]
  },
  {
   "attachments": {},
   "cell_type": "markdown",
   "metadata": {},
   "source": [
    "Collecting Natural Calamitites Data (This will include type, description and articles). To extract the location out of these details we will have to use an NLP library."
   ]
  },
  {
   "cell_type": "code",
   "execution_count": 63,
   "metadata": {},
   "outputs": [
    {
     "name": "stdout",
     "output_type": "stream",
     "text": [
      "[['Flood, Landslide', 'Heavy rainfall has been affecting northeastern India (in particular Arunchal Pradesh, Assam, and Meghalaya States) since 13 May 2022, triggering landslides and causing river overflow and floods that have resulted in casualties and damage. Media report, as of 16 May, seven fatalities, of which one in Itanagar City (southern Arunchal Pradesh), due to a landslide, three in the Dima Hasao District (central Assam) also in this case due to a landslide, and three more across central Meghalaya (two in East Khasi Hills District and one Ri-Bhoi District) due to floods.', 'DMC 2022/08/10\\nSituation report regarding Flood/ Heavy rainfall as on 10 2022 at 1800 Hrs'], ['Flood', 'The Disaster Management Division (DMD) of India, reports that at least 24 people have lost their lives after floods in the state of Andhra Pradesh that began from 18-19 November 2021. DMD said that, as of 21 November, 24 people had lost their lives and 17 were missing.', 'DMC 2021/11/22\\nTotal 32 persons have been died, 30 persons are still missing and 3699 houses damaged.'], ['Flood', 'Ongoing floods caused by heavy rains have been affecting the state of Tamil Nadu, southern India since 7 November 2021. 14 people have lost their lives and thousands of people have been displaced due to the disasters.', 'Floodlist 2021/11/12\\nOver 11,000 Displaced by Tamil Nadu Floods']]\n"
     ]
    }
   ],
   "source": [
    "# options = Options()\n",
    "# options.headless = True\n",
    "# options.add_argument(\"--window-size=1920,1200\")\n",
    "natural_calamities = []\n",
    "DRIVER_PATH = \"/path/to/chromedriver\"\n",
    "driver = webdriver.Chrome(service=Service(ChromeDriverManager().install()))\n",
    "driver.get(\"https://www.adrc.asia/latest_disaster.php?country%5B%5D=356&event%5B%5D=&word=&duration_start=2015%2F01%2F01&duration_end=2023%2F04%2F12&order=1&per_page=200\")\n",
    "for i in range(1,4):#43 is the actual number\n",
    "    val = driver.find_element(\"xpath\",\"//div[@id = 'main_2col_in']/section[1]/div[2]/div[1]/table/tbody/tr[\"+str(i)+\"]/td[1]/a[1]\")\n",
    "    driver.get(val.get_attribute(\"href\"))\n",
    "    desc = driver.find_element(\"xpath\",\"//div[@id = 'main_2col_in']/section[1]/div[1]/table/tbody/tr[4]/td[1]\")\n",
    "    name = driver.find_element(\"xpath\",\"//div[@id = 'main_2col_in']/section[1]/div[1]/table/tbody/tr[3]/td[1]\")\n",
    "    article = driver.find_element(\"xpath\",\"//div[@id = 'main_2col_in']/section[1]/div[3]/p[2]\")\n",
    "    natural_calamities.append([name.text,desc.text,article.text])\n",
    "    driver.back()\n",
    "print(natural_calamities)"
   ]
  },
  {
   "attachments": {},
   "cell_type": "markdown",
   "metadata": {},
   "source": [
    "Collecting Traffic Indices of Various Indian Cities\n",
    "Traffic Index is a composite index of time consumed in traffic due to job commute, estimation of time consumption dissatisfaction, CO2 consumption estimation in traffic and overall inefficiencies in the traffic system."
   ]
  },
  {
   "cell_type": "code",
   "execution_count": 26,
   "metadata": {},
   "outputs": [
    {
     "name": "stdout",
     "output_type": "stream",
     "text": [
      "[260.13, 199.14, 268.67, 284.95, 178.03, 179.97, 95.2, 159.73, 128.72, 253.59, 131.95, 95.77, 141.12, 125.95, 199.35, 153.27, 114.56, 190.7, 202.33, 139.53, 94.5, 78.31, 184.9, 148.05, 201.47, 97.06, 91.0, 38.64]\n",
      "[4.496163371361293, 3.2580893995371687, 4.6695221468880685, 5.0, 2.8295643701027156, 2.86894563761114, 1.1481466444724129, 2.4580812796881975, 1.8285899882262189, 4.363403840688563, 1.8941577686655027, 1.1597174292558157, 2.0803053063213026, 1.7723600341033658, 3.262352320246843, 2.3269457188096303, 1.5411473346595752, 3.086760586253096, 3.3228451950793714, 2.0480289066623363, 1.1339369087734967, 0.8052860216799967, 2.9690227761763626, 2.220981689740571, 3.3053875197921316, 1.1859039421866753, 1.0628882302789169, 0.0]\n"
     ]
    }
   ],
   "source": [
    "traffic_index = [0.0]*len(cities)\n",
    "# options = Options()\n",
    "# options.headless = True\n",
    "# options.add_argument(\"--window-size=1920,1200\")\n",
    "\n",
    "DRIVER_PATH = \"/path/to/chromedriver\"\n",
    "# driver = webdriver.Chrome(options=options,executable_path=DRIVER_PATH)\n",
    "driver = webdriver.Chrome(service=Service(ChromeDriverManager().install()))\n",
    "for i in cities:\n",
    "    if i == \"New Delhi\" or i == \"Varanasi\":\n",
    "        driver.get(\"https://www.numbeo.com/traffic/in/Delhi\")\n",
    "    elif i == \"Lucknow\":\n",
    "        driver.get(\"https://www.numbeo.com/traffic/in/Lucknow-Lakhnau\")\n",
    "    elif i == \"Kota\":\n",
    "        driver.get(\"https://www.numbeo.com/traffic/in/Kota-India\")\n",
    "    elif i == \"Allahabad\":\n",
    "        driver.get(\"https://www.numbeo.com/traffic/in/Allahabad-India\")\n",
    "    else:\n",
    "        driver.get(\"https://www.numbeo.com/traffic/in/\" + i)\n",
    "    traffic = driver.find_element(\"xpath\",\"html/body/div[2]/aside/table/tbody/tr[2]/td[2]\")\n",
    "    traffic_index[dict[i]] = float(traffic.text)\n",
    "traffic_index[dict[\"Varanasi\"]] = 190.7\n",
    "print(traffic_index)    \n",
    "#normalizing\n",
    "maxi = max(traffic_index)\n",
    "mini = min(traffic_index)\n",
    "for i in range(len(traffic_index)):\n",
    "    traffic_index[i] = ((traffic_index[i] - mini)/(maxi - mini))*5\n",
    "print(traffic_index)"
   ]
  },
  {
   "attachments": {},
   "cell_type": "markdown",
   "metadata": {},
   "source": [
    "Unemployment Rate "
   ]
  },
  {
   "cell_type": "code",
   "execution_count": 41,
   "metadata": {},
   "outputs": [
    {
     "name": "stdout",
     "output_type": "stream",
     "text": [
      "[3.8545454545454545, 3.8272727272727276, 5.79090909090909, 10.299999999999999, 3.4818181818181824, 7.772727272727272, 20.518181818181816, 3.7222222222222223, 2.2, 2.972727272727272, 13.881818181818181, 15.02727272727273, 2.2, 8.118181818181819, 3.8545454545454545, 2.0727272727272728, 3.8545454545454545, 3.4818181818181824, 26.172727272727272, 7.840000000000001, 2.972727272727272, 6.154545454545453, 3.8272727272727276, 2.0727272727272728, 3.8545454545454545, 26.172727272727272, 8.118181818181819, 3.4818181818181824]\n",
      "[0.36967182195397963, 0.36401357978121474, 0.7714070162202941, 1.7069030554507734, 0.29234251225952484, 1.1825726141078838, 3.826857789513391, 0.34221886918982364, 0.026405130139570007, 0.1867219917012447, 2.4500188608072424, 2.6876650320633733, 0.026405130139570007, 1.2542436816295741, 0.36967182195397963, 0.0, 0.36967182195397963, 0.29234251225952484, 5.0, 1.196529611467371, 0.1867219917012447, 0.8468502451904938, 0.36401357978121474, 0.0, 0.36967182195397963, 5.0, 1.2542436816295741, 0.29234251225952484]\n"
     ]
    }
   ],
   "source": [
    "df = pd.read_csv('./Unemploymnet.csv')\n",
    "# print(df)\n",
    "unemployment=[]\n",
    "\n",
    "for i in states:\n",
    "    for k in range(0,27):\n",
    "        if(i==df.loc[k][0]):\n",
    "            sum=0        \n",
    "            c = 0 \n",
    "            for y in range(1,12):\n",
    "                if(pd.isna(df.loc[k][y]) == False):\n",
    "                    sum+=float(df.loc[k][y])\n",
    "                    c = c + 1\n",
    "            avg=sum/c\n",
    "            unemployment.append(avg)\n",
    "            break\n",
    "print(unemployment)\n",
    "#normalizing\n",
    "maxi = max(unemployment)\n",
    "mini = min(unemployment)\n",
    "for i in range(len(unemployment)):\n",
    "    unemployment[i] = ((unemployment[i] - mini)/(maxi - mini))*5\n",
    "print(unemployment)"
   ]
  },
  {
   "attachments": {},
   "cell_type": "markdown",
   "metadata": {},
   "source": [
    "Life Expectancy vector"
   ]
  },
  {
   "cell_type": "code",
   "execution_count": 42,
   "metadata": {},
   "outputs": [
    {
     "name": "stdout",
     "output_type": "stream",
     "text": [
      "Maharashtra Found\n",
      "Tamil Nadu Found\n",
      "West Bengal Found\n",
      "Delhi Found\n",
      "Uttar Pradesh Found\n",
      "Telangana Found\n",
      "Jammu & Kashmir Found\n",
      "Uttarakhand Found\n",
      "Madhya Pradesh Found\n",
      "Karnataka Found\n",
      "Jharkhand Found\n",
      "Bihar Found\n",
      "Madhya Pradesh Found\n",
      "Punjab Found\n",
      "Maharashtra Found\n",
      "Gujarat Found\n",
      "Maharashtra Found\n",
      "Uttar Pradesh Found\n",
      "Rajasthan Found\n",
      "Assam Found\n",
      "Karnataka Found\n",
      "Andhra Pradesh Found\n",
      "Tamil Nadu Found\n",
      "Gujarat Found\n",
      "Maharashtra Found\n",
      "Rajasthan Found\n",
      "Punjab Found\n",
      "Uttar Pradesh Found\n",
      "[72.7, 72.6, 72.1, 75.9, 65.6, 69.8, 74.2, 70.6, 67.0, 69.5, 69.4, 69.2, 67.0, 72.8, 72.7, 70.2, 72.7, 65.6, 69.0, 67.5, 69.5, 70.3, 72.6, 70.2, 72.7, 69.0, 72.8, 65.6]\n",
      "[3.446601941747573, 3.3980582524271807, 3.155339805825239, 5.0, 0.0, 2.0388349514563098, 4.174757281553397, 2.4271844660194146, 0.6796116504854389, 1.8932038834951461, 1.8446601941747607, 1.747572815533983, 0.6796116504854389, 3.4951456310679587, 3.446601941747573, 2.2330097087378658, 3.446601941747573, 0.0, 1.650485436893205, 0.9223300970873803, 1.8932038834951461, 2.2815533980582514, 3.3980582524271807, 2.2330097087378658, 3.446601941747573, 1.650485436893205, 3.4951456310679587, 0.0]\n"
     ]
    }
   ],
   "source": [
    "dd=pd.read_csv('./Life Expectancy - Sheet1.csv')\n",
    "life_expectancy=[]\n",
    "x=0\n",
    "for i in states:\n",
    "    for k in range(2,24):\n",
    "        if(i==dd.loc[k][0]):\n",
    "            print(i + \" Found\")\n",
    "            life_expectancy.append(float(dd.loc[k][3]))\n",
    "            x=x+1\n",
    "            break\n",
    "print(life_expectancy)\n",
    "#normalizing\n",
    "maxi = max(life_expectancy)\n",
    "mini = min(life_expectancy)\n",
    "for i in range(len(life_expectancy)):\n",
    "    life_expectancy[i] = ((life_expectancy[i] - mini)/(maxi - mini))*5\n",
    "print(life_expectancy)"
   ]
  },
  {
   "attachments": {},
   "cell_type": "markdown",
   "metadata": {},
   "source": [
    "Factories/Workers emloyed by them"
   ]
  },
  {
   "cell_type": "code",
   "execution_count": 43,
   "metadata": {},
   "outputs": [
    {
     "name": "stdout",
     "output_type": "stream",
     "text": [
      "[3.2860808044159953, 5.0, 1.218026796589525, 0.3898981522274341, 2.064684997538031, 1.9463809054863037, 0.35232072977945944, 0.585819058232047, 1.8035867001839998, 0.34014046181356417, 0.4119262964210745, 0.585819058232047, 1.6640319278513487, 3.2860808044159953, 3.6578381320133726, 3.2860808044159953, 2.064684997538031, 1.2237281986161144, 0.0, 0.6408894187161479, 1.8035867001839998, 2.1605722134397594, 5.0, 3.6578381320133726, 3.2860808044159953, 1.2237281986161144, 1.6640319278513487, 2.064684997538031]\n",
      "[2.02963426624582, 1.547462740643787, 1.8851417924742087, 0.0, 1.6043416591213664, 0.8022720620195782, 5.0, 2.33929880490357, 1.885797131136784, 1.681964083433145, 0.18282706525304115, 2.33929880490357, 0.7592781875431076, 2.02963426624582, 1.725603157191968, 2.02963426624582, 1.6043416591213664, 1.2498243801417894, 0.32637485466144117, 0.7626138764024977, 1.885797131136784, 0.2625271990077627, 1.547462740643787, 1.725603157191968, 2.02963426624582, 1.2498243801417894, 0.7592781875431076, 1.6043416591213664]\n"
     ]
    }
   ],
   "source": [
    "file=pd.read_csv('./factories - Sheet1.csv')\n",
    "factories = []\n",
    "workers_engaged=[]\n",
    "file.loc[0][3]\n",
    "for i in states:\n",
    "    for k in range(0,35):\n",
    "        if(i==file.loc[k][1]):\n",
    "            factories.append(float(file.loc[k][2]))\n",
    "            workers_engaged.append(float(file.loc[k][3]) / float(file.loc[k][2]))\n",
    "            break\n",
    "#normalizing factories\n",
    "maxi = max(factories)\n",
    "mini = min(factories)\n",
    "for i in range(len(factories)):\n",
    "    factories[i] = ((factories[i] - mini)/(maxi - mini))*5\n",
    "#normalizing workers_engaged\n",
    "maxi = max(workers_engaged)\n",
    "mini = min(workers_engaged)\n",
    "for i in range(len(workers_engaged)):\n",
    "    workers_engaged[i] = ((workers_engaged[i] - mini)/(maxi - mini))*5\n",
    "print(factories)\n",
    "print(workers_engaged)"
   ]
  },
  {
   "attachments": {},
   "cell_type": "markdown",
   "metadata": {},
   "source": [
    "Accidents/No of people killed"
   ]
  },
  {
   "cell_type": "code",
   "execution_count": 44,
   "metadata": {},
   "outputs": [
    {
     "name": "stdout",
     "output_type": "stream",
     "text": [
      "[3379, 7486, 4104, 1639, 2945, 3571, 923, 5143, 1376, 1783, 3004, 1354, 790, 1373, 1100]\n",
      "[1.9332437275985663, 5.0, 2.4746117084826764, 0.6339605734767024, 1.6091696535244924, 2.0766129032258065, 0.09931302270011948, 3.2504480286738353, 0.43757467144563916, 0.7414874551971327, 1.6532258064516128, 0.42114695340501795, 0.0, 0.43533452807646356, 0.23148148148148145]\n",
      "[562, 1183, 407, 631, 448, 248, 484, 431, 410, 428, 890, 288, 283, 307, 488]\n",
      "[1.679144385026738, 5.0, 0.8502673796791443, 2.048128342245989, 1.0695187165775402, 0.0, 1.2620320855614973, 0.9786096256684491, 0.8663101604278074, 0.9625668449197861, 3.4331550802139037, 0.21390374331550802, 0.1871657754010695, 0.3155080213903743, 1.2834224598930484]\n"
     ]
    }
   ],
   "source": [
    "f1=pd.read_csv('./Accidents_road.csv')\n",
    "accidents =[]\n",
    "num_killed = []\n",
    "for i in cities:\n",
    "    for k in range(0,35):\n",
    "        if(i==f1.loc[k][1]):\n",
    "            accidents.append(f1.loc[k][2])\n",
    "            num_killed.append(f1.loc[k][3])\n",
    "            break\n",
    "print(accidents)\n",
    "#normalizing\n",
    "maxi = max(accidents)\n",
    "mini = min(accidents)\n",
    "for i in range(len(accidents)):\n",
    "    accidents[i] = ((accidents[i] - mini)/(maxi - mini))*5\n",
    "print(accidents)\n",
    "print(num_killed)\n",
    "#normalizing\n",
    "maxi = max(num_killed)\n",
    "mini = min(num_killed)\n",
    "for i in range(len(num_killed)):\n",
    "    num_killed[i] = ((num_killed[i] - mini)/(maxi - mini))*5\n",
    "print(num_killed)\n",
    "        "
   ]
  },
  {
   "cell_type": "markdown",
   "metadata": {},
   "source": [
    "Monthly Food Price"
   ]
  },
  {
   "cell_type": "code",
   "execution_count": 29,
   "metadata": {},
   "outputs": [
    {
     "name": "stdout",
     "output_type": "stream",
     "text": [
      "[757446.0, 766879.0, 715374.0, 767344.0, 614268.0, 792486.0, 664020.0, 607628.0, 613782.0, 947585.0, 492085.0, 761852.0, 621572.0, 676485.0, 762868.0, 772758.0, 522991.0, 557358.0, 663056.0, 677616.0, 728424.0, 620129.0, 674838.0, 739118.0, 723025.0, 747999.0, 682121.0, 620405.0]\n",
      "[2.912854006586169, 3.0163995609220633, 2.451031833150384, 3.021503841931943, 1.3411964873765092, 3.2974862788144894, 1.8873216245883646, 1.2683095499451151, 1.3358616904500549, 5.0, 0.0, 2.961218441273326, 1.4213721185510428, 2.0241492864983535, 2.972371020856202, 3.080933040614709, 0.33925356750823266, 0.7164983534577387, 1.8767398463227223, 2.036564215148189, 2.5942810098792535, 1.4055323819978047, 2.0060702524698133, 2.711668496158068, 2.5350164654226126, 2.8091547749725576, 2.086015367727772, 1.4085620197585071]\n"
     ]
    }
   ],
   "source": [
    "food_prices = [0.0]*len(cities)\n",
    "DRIVER_PATH = \"/path/to/chromedriver\"\n",
    "driver = webdriver.Chrome(service=Service(ChromeDriverManager().install()))\n",
    "for i in cities:\n",
    "    # try:\n",
    "    #     flag = driver.find_element(\"xpath\",\"html/body/div[3]/div[4]/form[0]/table[0]/tbody[0]/tr[0]/td[0]\")\n",
    "    #     if(flag.text == \"Your Email Address:\"):\n",
    "    #         print(\"Pop-up\")\n",
    "    # except:\n",
    "    #     print(\"No Pop-up\")\n",
    "    if i == \"Lucknow\":\n",
    "        driver.get(\"https://www.numbeo.com/food-prices/in/Lucknow-Lakhnau\")\n",
    "    elif i == \"New Delhi\":\n",
    "        driver.get(\"https://www.numbeo.com/food-prices/in/Delhi\")\n",
    "    elif i == \"Kota\":\n",
    "        driver.get(\"https://www.numbeo.com/food-prices/in/Kota-India\")\n",
    "    elif i == \"Allahabad\":\n",
    "        driver.get(\"https://www.numbeo.com/food-prices/in/Allahabad-India\")\n",
    "    else:\n",
    "        driver.get(\"https://www.numbeo.com/food-prices/in/\" + i)\n",
    "    food = driver.find_element(\"xpath\",\"html/body/div[2]/table[2]/tbody/tr[14]/td[2]\")\n",
    "    ele = food.text\n",
    "    s = \"\"\n",
    "    for j in ele:\n",
    "        if(j.isdigit()):\n",
    "            s = s + j\n",
    "    food_prices[dict[i]] = float(s)\n",
    "            \n",
    "        \n",
    "\n",
    "\n",
    "print(food_prices)    \n",
    "#normalizing\n",
    "maxi = max(food_prices)\n",
    "mini = min(food_prices)\n",
    "for i in range(len(food_prices)):\n",
    "    food_prices[i] = ((food_prices[i] - mini)/(maxi - mini))*5\n",
    "print(food_prices)"
   ]
  },
  {
   "cell_type": "markdown",
   "metadata": {},
   "source": [
    "Health Care Index"
   ]
  },
  {
   "cell_type": "code",
   "execution_count": 46,
   "metadata": {},
   "outputs": [
    {
     "name": "stdout",
     "output_type": "stream",
     "text": [
      "Exception occoured for city: Lucknow\n",
      "Exception occoured for city: Jammu\n",
      "Exception occoured for city: Dehradun\n",
      "Exception occoured for city: Bhopal\n",
      "Exception occoured for city: Ranchi\n",
      "Exception occoured for city: Patna\n",
      "Exception occoured for city: Indore\n",
      "Exception occoured for city: Amritsar\n",
      "Exception occoured for city: Aurangabad\n",
      "Exception occoured for city: Varanasi\n",
      "Exception occoured for city: Jaipur\n",
      "Exception occoured for city: Chandigarh\n",
      "Exception occoured for city: Guwahati\n",
      "Exception occoured for city: Mysore\n"
     ]
    }
   ],
   "source": [
    "\n",
    "health_index = [0.0]*len(cities)\n",
    "DRIVER_PATH = \"/path/to/chromedriver\"\n",
    "driver = webdriver.Chrome(service=Service(ChromeDriverManager().install()))\n",
    "for i in cities:\n",
    "    # try:\n",
    "    #     flag = driver.find_element(\"xpath\",\"html/body/div[3]/div[4]/form[0]/table[0]/tbody[0]/tr[0]/td[0]\")\n",
    "    #     if(flag.text == \"Your Email Address:\"):\n",
    "    #         print(\"Pop-up\")\n",
    "    # except:\n",
    "    #     print(\"No Pop-up\")\n",
    "    try:\n",
    "        if i == \"Lucknow\":\n",
    "            driver.get(\"https://www.numbeo.com/health-care/in/Lucknow-Lakhnau\")\n",
    "        elif i == \"New Delhi\":\n",
    "            driver.get(\"https://www.numbeo.com/health-care/in/Delhi\")\n",
    "        elif i == \"Kota\":\n",
    "            driver.get(\"https://www.numbeo.com/health-care/in/Kota-India\")\n",
    "        elif i == \"Allahabad\":\n",
    "            driver.get(\"https://www.numbeo.com/health-care/in/Allahabad-India\")\n",
    "        else:\n",
    "            driver.get(\"https://www.numbeo.com/health-care/in/\" + i)\n",
    "        hci = driver.find_element(\"xpath\",\"html/body/div[2]/aside[2]/table[1]/tbody/tr[2]/td[2]\")\n",
    "        health_index[dict[i]] = float(hci.text)\n",
    "        print(hci.text)\n",
    "    except:\n",
    "        print(\"Exception occoured for city: \" + i)\n",
    "        if i == \"Lucknow\":\n",
    "            driver.get(\"https://www.numbeo.com/health-care/in/Lucknow-Lakhnau\")\n",
    "        elif i == \"New Delhi\":\n",
    "            driver.get(\"https://www.numbeo.com/health-care/in/Delhi\")\n",
    "        elif i == \"Kota\":\n",
    "            driver.get(\"https://www.numbeo.com/health-care/in/Kota-India\")\n",
    "        elif i == \"Allahabad\":\n",
    "            driver.get(\"https://www.numbeo.com/health-care/in/Allahabad-India\")\n",
    "        else:\n",
    "            driver.get(\"https://www.numbeo.com/health-care/in/\" + i)\n",
    "        hci = driver.find_element(\"xpath\",\"html/body/div[2]/aside[1]/table[1]/tbody/tr[2]/td[2]\")\n",
    "        health_index[dict[i]] = float(hci.text)\n",
    "        print(hci.text)\n",
    "print(health_index)    \n",
    "#normalizing\n",
    "maxi = max(health_index)\n",
    "mini = min(health_index)\n",
    "for i in range(len(health_index)):\n",
    "    health_index[i] = ((health_index[i] - mini)/(maxi - mini))*5\n",
    "print(health_index)\n",
    "# https://www.numbeo.com/health-care/in/Mumbai"
   ]
  }
 ],
 "metadata": {
  "kernelspec": {
   "display_name": "Python 3",
   "language": "python",
   "name": "python3"
  },
  "language_info": {
   "codemirror_mode": {
    "name": "ipython",
    "version": 3
   },
   "file_extension": ".py",
   "mimetype": "text/x-python",
   "name": "python",
   "nbconvert_exporter": "python",
   "pygments_lexer": "ipython3",
   "version": "3.10.11"
  },
  "orig_nbformat": 4
 },
 "nbformat": 4,
 "nbformat_minor": 2
}

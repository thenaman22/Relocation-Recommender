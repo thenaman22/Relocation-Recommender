{
 "cells": [
  {
   "cell_type": "code",
   "execution_count": 7,
   "metadata": {},
   "outputs": [
    {
     "name": "stdout",
     "output_type": "stream",
     "text": [
      "Requirement already satisfied: selenium in c:\\users\\varun\\appdata\\local\\packages\\pythonsoftwarefoundation.python.3.10_qbz5n2kfra8p0\\localcache\\local-packages\\python310\\site-packages (4.7.2)\n",
      "Collecting selenium\n",
      "  Downloading selenium-4.14.0-py3-none-any.whl (9.9 MB)\n",
      "     ---------------------------------------- 0.0/9.9 MB ? eta -:--:--\n",
      "     ---------------------------------------- 0.0/9.9 MB 1.3 MB/s eta 0:00:08\n",
      "     ---------------------------------------- 0.1/9.9 MB 1.1 MB/s eta 0:00:10\n",
      "      --------------------------------------- 0.2/9.9 MB 1.5 MB/s eta 0:00:07\n",
      "     - -------------------------------------- 0.3/9.9 MB 1.6 MB/s eta 0:00:06\n",
      "     - -------------------------------------- 0.4/9.9 MB 1.7 MB/s eta 0:00:06\n",
      "     -- ------------------------------------- 0.7/9.9 MB 2.4 MB/s eta 0:00:04\n",
      "     --- ------------------------------------ 0.8/9.9 MB 2.6 MB/s eta 0:00:04\n",
      "     ----- ---------------------------------- 1.5/9.9 MB 4.0 MB/s eta 0:00:03\n",
      "     -------- ------------------------------- 2.0/9.9 MB 4.9 MB/s eta 0:00:02\n",
      "     ------------ --------------------------- 3.0/9.9 MB 6.6 MB/s eta 0:00:02\n",
      "     ----------------- ---------------------- 4.3/9.9 MB 8.4 MB/s eta 0:00:01\n",
      "     -------------------- ------------------- 5.2/9.9 MB 8.9 MB/s eta 0:00:01\n",
      "     ------------------------ --------------- 6.2/9.9 MB 10.1 MB/s eta 0:00:01\n",
      "     ----------------------------- ---------- 7.4/9.9 MB 10.9 MB/s eta 0:00:01\n",
      "     --------------------------------- ------ 8.2/9.9 MB 11.5 MB/s eta 0:00:01\n",
      "     ------------------------------------- -- 9.4/9.9 MB 12.5 MB/s eta 0:00:01\n",
      "     ---------------------------------------  9.9/9.9 MB 12.7 MB/s eta 0:00:01\n",
      "     ---------------------------------------- 9.9/9.9 MB 11.7 MB/s eta 0:00:00\n",
      "Requirement already satisfied: urllib3[socks]<3,>=1.26 in c:\\users\\varun\\appdata\\local\\packages\\pythonsoftwarefoundation.python.3.10_qbz5n2kfra8p0\\localcache\\local-packages\\python310\\site-packages (from selenium) (1.26.13)\n",
      "Requirement already satisfied: trio~=0.17 in c:\\users\\varun\\appdata\\local\\packages\\pythonsoftwarefoundation.python.3.10_qbz5n2kfra8p0\\localcache\\local-packages\\python310\\site-packages (from selenium) (0.22.0)\n",
      "Requirement already satisfied: certifi>=2021.10.8 in c:\\users\\varun\\appdata\\local\\packages\\pythonsoftwarefoundation.python.3.10_qbz5n2kfra8p0\\localcache\\local-packages\\python310\\site-packages (from selenium) (2022.12.7)\n",
      "Requirement already satisfied: trio-websocket~=0.9 in c:\\users\\varun\\appdata\\local\\packages\\pythonsoftwarefoundation.python.3.10_qbz5n2kfra8p0\\localcache\\local-packages\\python310\\site-packages (from selenium) (0.9.2)\n",
      "Requirement already satisfied: sortedcontainers in c:\\users\\varun\\appdata\\local\\packages\\pythonsoftwarefoundation.python.3.10_qbz5n2kfra8p0\\localcache\\local-packages\\python310\\site-packages (from trio~=0.17->selenium) (2.4.0)\n",
      "Requirement already satisfied: attrs>=19.2.0 in c:\\users\\varun\\appdata\\local\\packages\\pythonsoftwarefoundation.python.3.10_qbz5n2kfra8p0\\localcache\\local-packages\\python310\\site-packages (from trio~=0.17->selenium) (22.1.0)\n",
      "Requirement already satisfied: outcome in c:\\users\\varun\\appdata\\local\\packages\\pythonsoftwarefoundation.python.3.10_qbz5n2kfra8p0\\localcache\\local-packages\\python310\\site-packages (from trio~=0.17->selenium) (1.2.0)\n",
      "Requirement already satisfied: exceptiongroup>=1.0.0rc9 in c:\\users\\varun\\appdata\\local\\packages\\pythonsoftwarefoundation.python.3.10_qbz5n2kfra8p0\\localcache\\local-packages\\python310\\site-packages (from trio~=0.17->selenium) (1.0.4)\n",
      "Requirement already satisfied: idna in c:\\users\\varun\\appdata\\local\\packages\\pythonsoftwarefoundation.python.3.10_qbz5n2kfra8p0\\localcache\\local-packages\\python310\\site-packages (from trio~=0.17->selenium) (3.4)\n",
      "Requirement already satisfied: sniffio in c:\\users\\varun\\appdata\\local\\packages\\pythonsoftwarefoundation.python.3.10_qbz5n2kfra8p0\\localcache\\local-packages\\python310\\site-packages (from trio~=0.17->selenium) (1.3.0)\n",
      "Requirement already satisfied: async-generator>=1.9 in c:\\users\\varun\\appdata\\local\\packages\\pythonsoftwarefoundation.python.3.10_qbz5n2kfra8p0\\localcache\\local-packages\\python310\\site-packages (from trio~=0.17->selenium) (1.10)\n",
      "Requirement already satisfied: cffi>=1.14 in c:\\users\\varun\\appdata\\local\\packages\\pythonsoftwarefoundation.python.3.10_qbz5n2kfra8p0\\localcache\\local-packages\\python310\\site-packages (from trio~=0.17->selenium) (1.15.1)\n",
      "Requirement already satisfied: wsproto>=0.14 in c:\\users\\varun\\appdata\\local\\packages\\pythonsoftwarefoundation.python.3.10_qbz5n2kfra8p0\\localcache\\local-packages\\python310\\site-packages (from trio-websocket~=0.9->selenium) (1.2.0)\n",
      "Requirement already satisfied: PySocks!=1.5.7,<2.0,>=1.5.6 in c:\\users\\varun\\appdata\\local\\packages\\pythonsoftwarefoundation.python.3.10_qbz5n2kfra8p0\\localcache\\local-packages\\python310\\site-packages (from urllib3[socks]<3,>=1.26->selenium) (1.7.1)\n",
      "Requirement already satisfied: pycparser in c:\\users\\varun\\appdata\\local\\packages\\pythonsoftwarefoundation.python.3.10_qbz5n2kfra8p0\\localcache\\local-packages\\python310\\site-packages (from cffi>=1.14->trio~=0.17->selenium) (2.21)\n",
      "Requirement already satisfied: h11<1,>=0.9.0 in c:\\users\\varun\\appdata\\local\\packages\\pythonsoftwarefoundation.python.3.10_qbz5n2kfra8p0\\localcache\\local-packages\\python310\\site-packages (from wsproto>=0.14->trio-websocket~=0.9->selenium) (0.14.0)\n",
      "Installing collected packages: selenium\n",
      "  Attempting uninstall: selenium\n",
      "    Found existing installation: selenium 4.7.2\n",
      "    Uninstalling selenium-4.7.2:\n",
      "      Successfully uninstalled selenium-4.7.2\n",
      "Successfully installed selenium-4.14.0\n"
     ]
    },
    {
     "name": "stderr",
     "output_type": "stream",
     "text": [
      "\n",
      "[notice] A new release of pip is available: 23.0.1 -> 23.2.1\n",
      "[notice] To update, run: C:\\Users\\varun\\AppData\\Local\\Microsoft\\WindowsApps\\PythonSoftwareFoundation.Python.3.10_qbz5n2kfra8p0\\python.exe -m pip install --upgrade pip\n"
     ]
    }
   ],
   "source": [
    "!pip3 install -U selenium"
   ]
  },
  {
   "cell_type": "code",
   "execution_count": 8,
   "metadata": {},
   "outputs": [
    {
     "name": "stdout",
     "output_type": "stream",
     "text": [
      "Collecting webdriver-manager\n",
      "  Downloading webdriver_manager-4.0.1-py2.py3-none-any.whl (27 kB)\n",
      "Requirement already satisfied: requests in c:\\users\\varun\\appdata\\local\\packages\\pythonsoftwarefoundation.python.3.10_qbz5n2kfra8p0\\localcache\\local-packages\\python310\\site-packages (from webdriver-manager) (2.28.1)\n",
      "Requirement already satisfied: python-dotenv in c:\\users\\varun\\appdata\\local\\packages\\pythonsoftwarefoundation.python.3.10_qbz5n2kfra8p0\\localcache\\local-packages\\python310\\site-packages (from webdriver-manager) (1.0.0)\n",
      "Requirement already satisfied: packaging in c:\\users\\varun\\appdata\\local\\packages\\pythonsoftwarefoundation.python.3.10_qbz5n2kfra8p0\\localcache\\local-packages\\python310\\site-packages (from webdriver-manager) (22.0)\n",
      "Requirement already satisfied: idna<4,>=2.5 in c:\\users\\varun\\appdata\\local\\packages\\pythonsoftwarefoundation.python.3.10_qbz5n2kfra8p0\\localcache\\local-packages\\python310\\site-packages (from requests->webdriver-manager) (3.4)\n",
      "Requirement already satisfied: certifi>=2017.4.17 in c:\\users\\varun\\appdata\\local\\packages\\pythonsoftwarefoundation.python.3.10_qbz5n2kfra8p0\\localcache\\local-packages\\python310\\site-packages (from requests->webdriver-manager) (2022.12.7)\n",
      "Requirement already satisfied: urllib3<1.27,>=1.21.1 in c:\\users\\varun\\appdata\\local\\packages\\pythonsoftwarefoundation.python.3.10_qbz5n2kfra8p0\\localcache\\local-packages\\python310\\site-packages (from requests->webdriver-manager) (1.26.13)\n",
      "Requirement already satisfied: charset-normalizer<3,>=2 in c:\\users\\varun\\appdata\\local\\packages\\pythonsoftwarefoundation.python.3.10_qbz5n2kfra8p0\\localcache\\local-packages\\python310\\site-packages (from requests->webdriver-manager) (2.1.1)\n",
      "Installing collected packages: webdriver-manager\n",
      "Successfully installed webdriver-manager-4.0.1\n"
     ]
    },
    {
     "name": "stderr",
     "output_type": "stream",
     "text": [
      "\n",
      "[notice] A new release of pip is available: 23.0.1 -> 23.2.1\n",
      "[notice] To update, run: C:\\Users\\varun\\AppData\\Local\\Microsoft\\WindowsApps\\PythonSoftwareFoundation.Python.3.10_qbz5n2kfra8p0\\python.exe -m pip install --upgrade pip\n"
     ]
    }
   ],
   "source": [
    "!pip3 install webdriver-manager"
   ]
  },
  {
   "cell_type": "code",
   "execution_count": 1,
   "metadata": {},
   "outputs": [],
   "source": [
    "from selenium import webdriver\n",
    "from selenium.webdriver.chrome.service import Service\n",
    "from webdriver_manager.chrome import ChromeDriverManager\n",
    "from selenium.webdriver.chrome.options import Options\n",
    "from selenium.common.exceptions import NoSuchElementException\n",
    "from selenium.webdriver.chrome.options import Options\n",
    "import pandas as pd"
   ]
  },
  {
   "cell_type": "code",
   "execution_count": 18,
   "metadata": {},
   "outputs": [],
   "source": [
    "\n",
    "cities = [\"Mumbai\",\"Chennai\",\"Kolkata\",\"New Delhi\",\"Lucknow\",\"Hyderabad\",\"Jammu\",\"Dehradun\",\"Bhopal\",\"Bangalore\",\"Ranchi\",\"Patna\",\"Indore\",\"Amritsar\"]\n",
    "states = [\"Maharashtra\",\"Tamil Nadu\",\"West Bengal\",\"Delhi\",\"Uttar Pradesh\",\"Andhra Pradesh\",\"Jammu & Kashmir\",\"Uttarakhand\",\"Madhya Pradesh\",\"Karnataka\",\"Jharkhand\",\"Bihar\",\"Madhya Pradesh\",\"Punjab\"]"
   ]
  },
  {
   "attachments": {},
   "cell_type": "markdown",
   "metadata": {},
   "source": [
    "Creating Map of cities to Index and states to Index"
   ]
  },
  {
   "cell_type": "code",
   "execution_count": 19,
   "metadata": {},
   "outputs": [
    {
     "name": "stdout",
     "output_type": "stream",
     "text": [
      "{'Mumbai': 0, 'Chennai': 1, 'Kolkata': 2, 'New Delhi': 3, 'Lucknow': 4, 'Hyderabad': 5, 'Jammu': 6, 'Dehradun': 7, 'Bhopal': 8, 'Bangalore': 9, 'Ranchi': 10, 'Patna': 11, 'Indore': 12, 'Amritsar': 13, 'Maharashtra': 0, 'Tamil Nadu': 1, 'West Bengal': 2, 'Delhi': 3, 'Uttar Pradesh': 4, 'Andhra Pradesh': 5, 'Jammu & Kashmir': 6, 'Uttarakhand': 7, 'Madhya Pradesh': 12, 'Karnataka': 9, 'Jharkhand': 10, 'Bihar': 11, 'Punjab': 13}\n"
     ]
    }
   ],
   "source": [
    "a = 0\n",
    "dict = {}\n",
    "for i in cities:\n",
    "    dict.update({i : a})\n",
    "    a = a + 1\n",
    "a= 0\n",
    "for i in states:\n",
    "    dict.update({i:a})\n",
    "    a = a + 1\n",
    "print(dict)"
   ]
  },
  {
   "attachments": {},
   "cell_type": "markdown",
   "metadata": {},
   "source": [
    "Dynamically Finding AQI of all cities considered."
   ]
  },
  {
   "cell_type": "code",
   "execution_count": 21,
   "metadata": {},
   "outputs": [
    {
     "name": "stdout",
     "output_type": "stream",
     "text": [
      "87\n",
      "73\n",
      "243\n",
      "405\n",
      "359\n",
      "42\n",
      "Jammu Not Found\n",
      "35\n",
      "98\n",
      "172\n",
      "73\n",
      "Ranchi Not Found\n",
      "270\n",
      "371\n",
      "Indore Not Found\n",
      "129\n",
      "226\n",
      "[87, 73, 243, 405, 359, 42, 35, 98, 172, 73, 270, 371, 129, 226]\n"
     ]
    }
   ],
   "source": [
    "aqi_list = [0]*len(cities)\n",
    "op = webdriver.ChromeOptions()\n",
    "op.add_argument = {'user-data-dir':'/Users/Application/Chrome/Default'}\n",
    "#finding aqi\n",
    "DRIVER_PATH = \"/path/to/chromedriver\"\n",
    "driver = webdriver.Chrome(service=Service(ChromeDriverManager().install()),options=op)\n",
    "for i in range(len(cities)):\n",
    "    try:\n",
    "        driver.get(\"https://www.google.com/search?q=\"+cities[i]+\"+aqi\")\n",
    "        aqi = driver.find_element(\"xpath\",\"//span[@class = 'pnbfad']\")\n",
    "        print(aqi.text)\n",
    "        aqi_list[i] = int(aqi.text)\n",
    "    except:\n",
    "        print(cities[i] + \" Not Found\")\n",
    "        if(cities[i] == \"Jammu\"):\n",
    "            driver.get(\"https://www.google.com/search?q=Jammu+and+Kashmir\"+\"+aqi\")\n",
    "        else:\n",
    "            driver.get(\"https://www.google.com/search?q=\"+states[i]+\"+aqi\")\n",
    "        aqi = driver.find_element(\"xpath\",\"//span[@class = 'pnbfad']\")\n",
    "        print(aqi.text)\n",
    "        aqi_list[i] = int(aqi.text)\n",
    "print(aqi_list)\n",
    "driver.quit()\n"
   ]
  },
  {
   "cell_type": "code",
   "execution_count": 22,
   "metadata": {},
   "outputs": [
    {
     "name": "stdout",
     "output_type": "stream",
     "text": [
      "[87, 73, 243, 405, 359, 42, 35, 98, 172, 73, 270, 371, 129, 226]\n",
      "[0.7027027027027027, 0.5135135135135136, 2.810810810810811, 5.0, 4.378378378378379, 0.0945945945945946, 0.0, 0.8513513513513514, 1.8513513513513513, 0.5135135135135136, 3.1756756756756754, 4.54054054054054, 1.2702702702702704, 2.5810810810810807]\n"
     ]
    }
   ],
   "source": [
    "print(aqi_list)\n",
    "maxi = max(aqi_list)\n",
    "mini = min(aqi_list)\n",
    "for i in range(len(aqi_list)):\n",
    "    aqi_list[i] = ((aqi_list[i] - mini)/(maxi - mini))*5\n",
    "print(aqi_list)\n"
   ]
  },
  {
   "attachments": {},
   "cell_type": "markdown",
   "metadata": {},
   "source": [
    "Collecting Population Density of each city. Step 1: Get population of each city (Also get literacy rate as it will be needed in some other category)"
   ]
  },
  {
   "cell_type": "code",
   "execution_count": 23,
   "metadata": {},
   "outputs": [
    {
     "name": "stdout",
     "output_type": "stream",
     "text": [
      "[12442373, 4646732, 4496694, 11034555, 2817105, 6731790, 502197, 569578, 1798218, 8443675, 1073427, 1684222, 1964086, 1132383]\n",
      "[89.73, 90.18, 86.31, 87.59, 82.5, 83.26, 90.14, 88.36, 83.47, 88.71, 87.37, 83.37, 85.87, 84.19]\n",
      "[4.707031249999998, 5.0, 2.480468749999999, 3.3138020833333326, 0.0, 0.49479166666666957, 4.9739583333333295, 3.815104166666663, 0.6315104166666653, 4.042968749999992, 3.170572916666667, 0.5664062500000024, 2.194010416666668, 1.1002604166666643]\n"
     ]
    }
   ],
   "source": [
    "\n",
    "# options = Options()\n",
    "# options.headless = True\n",
    "# options.add_argument(\"--window-size=1920,1200\")\n",
    "pop_list = [0]*len(cities)\n",
    "lit_rate = [0.0]*len(cities)\n",
    "DRIVER_PATH = \"/path/to/chromedriver\"\n",
    "driver = webdriver.Chrome(service=Service(ChromeDriverManager().install()))\n",
    "driver.get(\"https://www.census2011.co.in/city.php\")\n",
    "i = 1\n",
    "for i in range(1,499):\n",
    "    ele1 = driver.find_element(\"xpath\",\"//table/tbody/tr[\"+str(i)+\"]/td[2]\")\n",
    "    ele2 = driver.find_element(\"xpath\",\"//table/tbody/tr[\"+str(i)+\"]/td[4]\")\n",
    "    ele3 = driver.find_element(\"xpath\",\"//table/tbody/tr[\"+str(i)+\"]/td[7]\")\n",
    "    city = ele1.text\n",
    "    pop = ele2.text\n",
    "    lit = ele3.text\n",
    "    population = \"\"\n",
    "    for element in pop:\n",
    "        if element != ',':\n",
    "            population = population + element\n",
    "    if(city in dict):\n",
    "        pop_list[dict[city]] = int(population)\n",
    "        lit_rate[dict[city]] = float(lit)\n",
    "print(pop_list)\n",
    "print(lit_rate)\n",
    "#normalizing\n",
    "maxi = max(lit_rate)\n",
    "mini = min(lit_rate)\n",
    "for i in range(len(lit_rate)):\n",
    "    lit_rate[i] = ((lit_rate[i] - mini)/(maxi - mini))*5\n",
    "print(lit_rate)\n",
    "        "
   ]
  },
  {
   "attachments": {},
   "cell_type": "markdown",
   "metadata": {},
   "source": [
    "Step 2: Get area of city."
   ]
  },
  {
   "cell_type": "code",
   "execution_count": 27,
   "metadata": {},
   "outputs": [
    {
     "name": "stdout",
     "output_type": "stream",
     "text": [
      "[603.4, 426.0, 206.1, 42.7, 631.0, 650.0, 167.0, 196.5, 463.0, 741.0, 175.1, 250.0, 525.0, 139.0]\n"
     ]
    }
   ],
   "source": [
    "area_list = [0.0]*len(cities)\n",
    "options = webdriver.ChromeOptions\n",
    "# options.headless = True\n",
    "# options.add_argument = {'user-data-dir':'<path of specific Chrome profile>'}\n",
    "\n",
    "DRIVER_PATH = \"/path/to/chromedriver\"\n",
    "driver = webdriver.Chrome(service=Service(ChromeDriverManager().install()))\n",
    "for i in cities:\n",
    "    if(i == \"Amritsar\"):\n",
    "        a = 139\n",
    "    else:\n",
    "        driver.get(\"https://www.google.com/search?q=Area+of+\"+i)\n",
    "        area = driver.find_element(\"xpath\",\"//div[@class = 'Z0LcW t2b5Cf']\")\n",
    "        a = \"\"\n",
    "        for ele in area.text:\n",
    "            if ele == \" \":\n",
    "                break\n",
    "            a = a + ele\n",
    "    area_list[dict[i]] = float(a)\n",
    "driver.quit()\n",
    "print(area_list)"
   ]
  },
  {
   "attachments": {},
   "cell_type": "markdown",
   "metadata": {},
   "source": [
    "Step 3: Calculate Population Density"
   ]
  },
  {
   "cell_type": "code",
   "execution_count": 28,
   "metadata": {},
   "outputs": [
    {
     "name": "stdout",
     "output_type": "stream",
     "text": [
      "[20620.439177991382, 10907.821596244132, 21818.02037845706, 258420.49180327868, 4464.5087163232965, 10356.6, 3007.1676646706587, 2898.615776081425, 3883.840172786177, 11394.973009446694, 6130.365505425471, 6736.888, 3741.1161904761907, 8146.640287769784]\n",
      "[0.34677702898564505, 0.15672250737761143, 0.3702110538739527, 5.0, 0.030641073957894723, 0.14593631550992453, 0.0021241212352730177, 0.0, 0.019278670226260522, 0.1662549869597258, 0.06323822013971253, 0.07510652871674355, 0.016485876424629328, 0.10269227420531636]\n"
     ]
    }
   ],
   "source": [
    "pop_density = [0.0]*len(cities)\n",
    "for i in range(0,len(cities)):\n",
    "    pop_density[i] = (float(pop_list[i]))/area_list[i]\n",
    "print(pop_density)\n",
    "#normalizing\n",
    "maxi = max(pop_density)\n",
    "mini = min(pop_density)\n",
    "for i in range(len(pop_density)):\n",
    "    pop_density[i] = ((pop_density[i] - mini)/(maxi - mini))*5\n",
    "print(pop_density)"
   ]
  },
  {
   "attachments": {},
   "cell_type": "markdown",
   "metadata": {},
   "source": [
    "Collecting Crime Rate of Indian Cities."
   ]
  },
  {
   "cell_type": "code",
   "execution_count": 29,
   "metadata": {},
   "outputs": [
    {
     "ename": "NoSuchWindowException",
     "evalue": "Message: no such window: target window already closed\nfrom unknown error: web view not found\n  (Session info: chrome=119.0.6045.107)\nStacktrace:\n\tGetHandleVerifier [0x00F172A3+45731]\n\t(No symbol) [0x00EA2D51]\n\t(No symbol) [0x00D9880D]\n\t(No symbol) [0x00D7F75E]\n\t(No symbol) [0x00DEC11B]\n\t(No symbol) [0x00DFB2D3]\n\t(No symbol) [0x00DE7DD6]\n\t(No symbol) [0x00DC31F6]\n\t(No symbol) [0x00DC439D]\n\tGetHandleVerifier [0x01220716+3229462]\n\tGetHandleVerifier [0x012684C8+3523784]\n\tGetHandleVerifier [0x0126214C+3498316]\n\tGetHandleVerifier [0x00FA1680+611968]\n\t(No symbol) [0x00EACCCC]\n\t(No symbol) [0x00EA8DF8]\n\t(No symbol) [0x00EA8F1D]\n\t(No symbol) [0x00E9B2C7]\n\tBaseThreadInitThunk [0x765BFCC9+25]\n\tRtlGetAppContainerNamedObjectPath [0x77177C6E+286]\n\tRtlGetAppContainerNamedObjectPath [0x77177C3E+238]\n",
     "output_type": "error",
     "traceback": [
      "\u001b[1;31m---------------------------------------------------------------------------\u001b[0m",
      "\u001b[1;31mNoSuchWindowException\u001b[0m                     Traceback (most recent call last)",
      "\u001b[1;32mc:\\Users\\varun\\Documents\\B-Tech-Project\\btp.ipynb Cell 17\u001b[0m line \u001b[0;36m1\n\u001b[0;32m     <a href='vscode-notebook-cell:/c%3A/Users/varun/Documents/B-Tech-Project/btp.ipynb#X22sZmlsZQ%3D%3D?line=16'>17</a>\u001b[0m     driver\u001b[39m.\u001b[39mget(\u001b[39m\"\u001b[39m\u001b[39mhttps://www.numbeo.com/crime/in/\u001b[39m\u001b[39m\"\u001b[39m \u001b[39m+\u001b[39m i)\n\u001b[1;32m---> <a href='vscode-notebook-cell:/c%3A/Users/varun/Documents/B-Tech-Project/btp.ipynb#X22sZmlsZQ%3D%3D?line=17'>18</a>\u001b[0m crime \u001b[39m=\u001b[39m driver\u001b[39m.\u001b[39;49mfind_element(\u001b[39m\"\u001b[39;49m\u001b[39mxpath\u001b[39;49m\u001b[39m\"\u001b[39;49m,\u001b[39m\"\u001b[39;49m\u001b[39mhtml/body/div[2]/aside[2]/table/tbody/tr[2]/td[2]\u001b[39;49m\u001b[39m\"\u001b[39;49m)\n\u001b[0;32m     <a href='vscode-notebook-cell:/c%3A/Users/varun/Documents/B-Tech-Project/btp.ipynb#X22sZmlsZQ%3D%3D?line=18'>19</a>\u001b[0m crime_rate[\u001b[39mdict\u001b[39m[i]] \u001b[39m=\u001b[39m \u001b[39mfloat\u001b[39m(crime\u001b[39m.\u001b[39mtext)\n",
      "File \u001b[1;32m~\\AppData\\Local\\Packages\\PythonSoftwareFoundation.Python.3.10_qbz5n2kfra8p0\\LocalCache\\local-packages\\Python310\\site-packages\\selenium\\webdriver\\remote\\webdriver.py:738\u001b[0m, in \u001b[0;36mWebDriver.find_element\u001b[1;34m(self, by, value)\u001b[0m\n\u001b[0;32m    736\u001b[0m     value \u001b[39m=\u001b[39m \u001b[39mf\u001b[39m\u001b[39m'\u001b[39m\u001b[39m[name=\u001b[39m\u001b[39m\"\u001b[39m\u001b[39m{\u001b[39;00mvalue\u001b[39m}\u001b[39;00m\u001b[39m\"\u001b[39m\u001b[39m]\u001b[39m\u001b[39m'\u001b[39m\n\u001b[1;32m--> 738\u001b[0m \u001b[39mreturn\u001b[39;00m \u001b[39mself\u001b[39;49m\u001b[39m.\u001b[39;49mexecute(Command\u001b[39m.\u001b[39;49mFIND_ELEMENT, {\u001b[39m\"\u001b[39;49m\u001b[39musing\u001b[39;49m\u001b[39m\"\u001b[39;49m: by, \u001b[39m\"\u001b[39;49m\u001b[39mvalue\u001b[39;49m\u001b[39m\"\u001b[39;49m: value})[\u001b[39m\"\u001b[39m\u001b[39mvalue\u001b[39m\u001b[39m\"\u001b[39m]\n",
      "File \u001b[1;32m~\\AppData\\Local\\Packages\\PythonSoftwareFoundation.Python.3.10_qbz5n2kfra8p0\\LocalCache\\local-packages\\Python310\\site-packages\\selenium\\webdriver\\remote\\webdriver.py:344\u001b[0m, in \u001b[0;36mWebDriver.execute\u001b[1;34m(self, driver_command, params)\u001b[0m\n\u001b[0;32m    343\u001b[0m \u001b[39mif\u001b[39;00m response:\n\u001b[1;32m--> 344\u001b[0m     \u001b[39mself\u001b[39;49m\u001b[39m.\u001b[39;49merror_handler\u001b[39m.\u001b[39;49mcheck_response(response)\n\u001b[0;32m    345\u001b[0m     response[\u001b[39m\"\u001b[39m\u001b[39mvalue\u001b[39m\u001b[39m\"\u001b[39m] \u001b[39m=\u001b[39m \u001b[39mself\u001b[39m\u001b[39m.\u001b[39m_unwrap_value(response\u001b[39m.\u001b[39mget(\u001b[39m\"\u001b[39m\u001b[39mvalue\u001b[39m\u001b[39m\"\u001b[39m, \u001b[39mNone\u001b[39;00m))\n",
      "File \u001b[1;32m~\\AppData\\Local\\Packages\\PythonSoftwareFoundation.Python.3.10_qbz5n2kfra8p0\\LocalCache\\local-packages\\Python310\\site-packages\\selenium\\webdriver\\remote\\errorhandler.py:229\u001b[0m, in \u001b[0;36mErrorHandler.check_response\u001b[1;34m(self, response)\u001b[0m\n\u001b[0;32m    228\u001b[0m     \u001b[39mraise\u001b[39;00m exception_class(message, screen, stacktrace, alert_text)  \u001b[39m# type: ignore[call-arg]  # mypy is not smart enough here\u001b[39;00m\n\u001b[1;32m--> 229\u001b[0m \u001b[39mraise\u001b[39;00m exception_class(message, screen, stacktrace)\n",
      "\u001b[1;31mNoSuchWindowException\u001b[0m: Message: no such window: target window already closed\nfrom unknown error: web view not found\n  (Session info: chrome=119.0.6045.107)\nStacktrace:\n\tGetHandleVerifier [0x00F172A3+45731]\n\t(No symbol) [0x00EA2D51]\n\t(No symbol) [0x00D9880D]\n\t(No symbol) [0x00D7F75E]\n\t(No symbol) [0x00DEC11B]\n\t(No symbol) [0x00DFB2D3]\n\t(No symbol) [0x00DE7DD6]\n\t(No symbol) [0x00DC31F6]\n\t(No symbol) [0x00DC439D]\n\tGetHandleVerifier [0x01220716+3229462]\n\tGetHandleVerifier [0x012684C8+3523784]\n\tGetHandleVerifier [0x0126214C+3498316]\n\tGetHandleVerifier [0x00FA1680+611968]\n\t(No symbol) [0x00EACCCC]\n\t(No symbol) [0x00EA8DF8]\n\t(No symbol) [0x00EA8F1D]\n\t(No symbol) [0x00E9B2C7]\n\tBaseThreadInitThunk [0x765BFCC9+25]\n\tRtlGetAppContainerNamedObjectPath [0x77177C6E+286]\n\tRtlGetAppContainerNamedObjectPath [0x77177C3E+238]\n",
      "\nDuring handling of the above exception, another exception occurred:\n",
      "\u001b[1;31mNoSuchWindowException\u001b[0m                     Traceback (most recent call last)",
      "\u001b[1;32mc:\\Users\\varun\\Documents\\B-Tech-Project\\btp.ipynb Cell 17\u001b[0m line \u001b[0;36m2\n\u001b[0;32m     <a href='vscode-notebook-cell:/c%3A/Users/varun/Documents/B-Tech-Project/btp.ipynb#X22sZmlsZQ%3D%3D?line=18'>19</a>\u001b[0m     crime_rate[\u001b[39mdict\u001b[39m[i]] \u001b[39m=\u001b[39m \u001b[39mfloat\u001b[39m(crime\u001b[39m.\u001b[39mtext)\n\u001b[0;32m     <a href='vscode-notebook-cell:/c%3A/Users/varun/Documents/B-Tech-Project/btp.ipynb#X22sZmlsZQ%3D%3D?line=19'>20</a>\u001b[0m \u001b[39mexcept\u001b[39;00m:\n\u001b[1;32m---> <a href='vscode-notebook-cell:/c%3A/Users/varun/Documents/B-Tech-Project/btp.ipynb#X22sZmlsZQ%3D%3D?line=20'>21</a>\u001b[0m     driver\u001b[39m.\u001b[39;49mget(\u001b[39m\"\u001b[39;49m\u001b[39mhttps://www.numbeo.com/crime/in/\u001b[39;49m\u001b[39m\"\u001b[39;49m \u001b[39m+\u001b[39;49m i)\n\u001b[0;32m     <a href='vscode-notebook-cell:/c%3A/Users/varun/Documents/B-Tech-Project/btp.ipynb#X22sZmlsZQ%3D%3D?line=21'>22</a>\u001b[0m     crime \u001b[39m=\u001b[39m driver\u001b[39m.\u001b[39mfind_element(\u001b[39m\"\u001b[39m\u001b[39mxpath\u001b[39m\u001b[39m\"\u001b[39m,\u001b[39m\"\u001b[39m\u001b[39mhtml/body/div[2]/aside[1]/table/tbody/tr[2]/td[2]\u001b[39m\u001b[39m\"\u001b[39m)\n\u001b[0;32m     <a href='vscode-notebook-cell:/c%3A/Users/varun/Documents/B-Tech-Project/btp.ipynb#X22sZmlsZQ%3D%3D?line=22'>23</a>\u001b[0m     crime_rate[\u001b[39mdict\u001b[39m[i]] \u001b[39m=\u001b[39m \u001b[39mfloat\u001b[39m(crime\u001b[39m.\u001b[39mtext)\n",
      "File \u001b[1;32m~\\AppData\\Local\\Packages\\PythonSoftwareFoundation.Python.3.10_qbz5n2kfra8p0\\LocalCache\\local-packages\\Python310\\site-packages\\selenium\\webdriver\\remote\\webdriver.py:353\u001b[0m, in \u001b[0;36mWebDriver.get\u001b[1;34m(self, url)\u001b[0m\n\u001b[0;32m    351\u001b[0m \u001b[39mdef\u001b[39;00m \u001b[39mget\u001b[39m(\u001b[39mself\u001b[39m, url: \u001b[39mstr\u001b[39m) \u001b[39m-\u001b[39m\u001b[39m>\u001b[39m \u001b[39mNone\u001b[39;00m:\n\u001b[0;32m    352\u001b[0m     \u001b[39m\"\"\"Loads a web page in the current browser session.\"\"\"\u001b[39;00m\n\u001b[1;32m--> 353\u001b[0m     \u001b[39mself\u001b[39;49m\u001b[39m.\u001b[39;49mexecute(Command\u001b[39m.\u001b[39;49mGET, {\u001b[39m\"\u001b[39;49m\u001b[39murl\u001b[39;49m\u001b[39m\"\u001b[39;49m: url})\n",
      "File \u001b[1;32m~\\AppData\\Local\\Packages\\PythonSoftwareFoundation.Python.3.10_qbz5n2kfra8p0\\LocalCache\\local-packages\\Python310\\site-packages\\selenium\\webdriver\\remote\\webdriver.py:344\u001b[0m, in \u001b[0;36mWebDriver.execute\u001b[1;34m(self, driver_command, params)\u001b[0m\n\u001b[0;32m    342\u001b[0m response \u001b[39m=\u001b[39m \u001b[39mself\u001b[39m\u001b[39m.\u001b[39mcommand_executor\u001b[39m.\u001b[39mexecute(driver_command, params)\n\u001b[0;32m    343\u001b[0m \u001b[39mif\u001b[39;00m response:\n\u001b[1;32m--> 344\u001b[0m     \u001b[39mself\u001b[39;49m\u001b[39m.\u001b[39;49merror_handler\u001b[39m.\u001b[39;49mcheck_response(response)\n\u001b[0;32m    345\u001b[0m     response[\u001b[39m\"\u001b[39m\u001b[39mvalue\u001b[39m\u001b[39m\"\u001b[39m] \u001b[39m=\u001b[39m \u001b[39mself\u001b[39m\u001b[39m.\u001b[39m_unwrap_value(response\u001b[39m.\u001b[39mget(\u001b[39m\"\u001b[39m\u001b[39mvalue\u001b[39m\u001b[39m\"\u001b[39m, \u001b[39mNone\u001b[39;00m))\n\u001b[0;32m    346\u001b[0m     \u001b[39mreturn\u001b[39;00m response\n",
      "File \u001b[1;32m~\\AppData\\Local\\Packages\\PythonSoftwareFoundation.Python.3.10_qbz5n2kfra8p0\\LocalCache\\local-packages\\Python310\\site-packages\\selenium\\webdriver\\remote\\errorhandler.py:229\u001b[0m, in \u001b[0;36mErrorHandler.check_response\u001b[1;34m(self, response)\u001b[0m\n\u001b[0;32m    227\u001b[0m         alert_text \u001b[39m=\u001b[39m value[\u001b[39m\"\u001b[39m\u001b[39malert\u001b[39m\u001b[39m\"\u001b[39m]\u001b[39m.\u001b[39mget(\u001b[39m\"\u001b[39m\u001b[39mtext\u001b[39m\u001b[39m\"\u001b[39m)\n\u001b[0;32m    228\u001b[0m     \u001b[39mraise\u001b[39;00m exception_class(message, screen, stacktrace, alert_text)  \u001b[39m# type: ignore[call-arg]  # mypy is not smart enough here\u001b[39;00m\n\u001b[1;32m--> 229\u001b[0m \u001b[39mraise\u001b[39;00m exception_class(message, screen, stacktrace)\n",
      "\u001b[1;31mNoSuchWindowException\u001b[0m: Message: no such window: target window already closed\nfrom unknown error: web view not found\n  (Session info: chrome=119.0.6045.107)\nStacktrace:\n\tGetHandleVerifier [0x00F172A3+45731]\n\t(No symbol) [0x00EA2D51]\n\t(No symbol) [0x00D9880D]\n\t(No symbol) [0x00D7F75E]\n\t(No symbol) [0x00DEC11B]\n\t(No symbol) [0x00DFB2D3]\n\t(No symbol) [0x00DE7DD6]\n\t(No symbol) [0x00DC31F6]\n\t(No symbol) [0x00DC439D]\n\tGetHandleVerifier [0x01220716+3229462]\n\tGetHandleVerifier [0x012684C8+3523784]\n\tGetHandleVerifier [0x0126214C+3498316]\n\tGetHandleVerifier [0x00FA1680+611968]\n\t(No symbol) [0x00EACCCC]\n\t(No symbol) [0x00EA8DF8]\n\t(No symbol) [0x00EA8F1D]\n\t(No symbol) [0x00E9B2C7]\n\tBaseThreadInitThunk [0x765BFCC9+25]\n\tRtlGetAppContainerNamedObjectPath [0x77177C6E+286]\n\tRtlGetAppContainerNamedObjectPath [0x77177C3E+238]\n"
     ]
    }
   ],
   "source": [
    "crime_rate = [0.0]*len(cities)\n",
    "DRIVER_PATH = \"/path/to/chromedriver\"\n",
    "driver = webdriver.Chrome(service=Service(ChromeDriverManager().install()))\n",
    "for i in cities:\n",
    "    # try:\n",
    "    #     flag = driver.find_element(\"xpath\",\"html/body/div[3]/div[4]/form[0]/table[0]/tbody[0]/tr[0]/td[0]\")\n",
    "    #     if(flag.text == \"Your Email Address:\"):\n",
    "    #         print(\"Pop-up\")\n",
    "    # except:\n",
    "    #     print(\"No Pop-up\")\n",
    "    try:\n",
    "        if i == \"Lucknow\":\n",
    "            driver.get(\"https://www.numbeo.com/crime/in/Lucknow-Lakhnau\")\n",
    "        elif i == \"New Delhi\":\n",
    "            driver.get(\"https://www.numbeo.com/crime/in/Delhi\")\n",
    "        else:\n",
    "            driver.get(\"https://www.numbeo.com/crime/in/\" + i)\n",
    "        crime = driver.find_element(\"xpath\",\"html/body/div[2]/aside[2]/table/tbody/tr[2]/td[2]\")\n",
    "        crime_rate[dict[i]] = float(crime.text)\n",
    "    except:\n",
    "        driver.get(\"https://www.numbeo.com/crime/in/\" + i)\n",
    "        crime = driver.find_element(\"xpath\",\"html/body/div[2]/aside[1]/table/tbody/tr[2]/td[2]\")\n",
    "        crime_rate[dict[i]] = float(crime.text)\n",
    "            \n",
    "        \n",
    "\n",
    "\n",
    "print(crime_rate)    \n",
    "#normalizing\n",
    "maxi = max(crime_rate)\n",
    "mini = min(crime_rate)\n",
    "for i in range(len(crime_rate)):\n",
    "    crime_rate[i] = ((crime_rate[i] - mini)/(maxi - mini))*5\n",
    "print(crime_rate)"
   ]
  },
  {
   "attachments": {},
   "cell_type": "markdown",
   "metadata": {},
   "source": [
    "Collecting the Property Price per Income Ratio"
   ]
  },
  {
   "cell_type": "code",
   "execution_count": 11,
   "metadata": {},
   "outputs": [
    {
     "name": "stdout",
     "output_type": "stream",
     "text": [
      "[31.27, 9.35, 10.06, 10.41, 7.56, 5.64, 25.13, 24.89, 15.64, 6.45, 10.61, 21.93, 8.72]\n",
      "[5.0, 0.7237612173234491, 0.8622707764338667, 0.9305501365587204, 0.3745610612563402, 0.0, 3.8021849395239955, 3.755364806866953, 1.9508388607101055, 0.15801794771751865, 0.9695669137729224, 3.1779165040967614, 0.6008583690987126]\n"
     ]
    }
   ],
   "source": [
    "property_ratio = [0.0]*len(cities)\n",
    "# options = Options()\n",
    "# options.headless = True\n",
    "# options.add_argument(\"--window-size=1920,1200\")\n",
    "\n",
    "DRIVER_PATH = \"/path/to/chromedriver\"\n",
    "driver = webdriver.Chrome(service=Service(ChromeDriverManager().install()))\n",
    "for i in cities:\n",
    "    if i == \"Lucknow\":\n",
    "        driver.get(\"https://www.numbeo.com/property-investment/in/Lucknow-Lakhnau\")\n",
    "    elif i == \"New Delhi\":\n",
    "        driver.get(\"https://www.numbeo.com/property-investment/in/Delhi\")\n",
    "    else:\n",
    "        driver.get(\"https://www.numbeo.com/property-investment/in/\" + i)\n",
    "    if(i == \"Jammu\"):\n",
    "        property = 25.13\n",
    "        property_ratio[dict[i]] = property\n",
    "    else:\n",
    "        property = driver.find_element(\"xpath\",\"html/body/div[2]/div[2]/table/tbody/tr[2]/td[2]\")\n",
    "        property_ratio[dict[i]] = float(property.text)\n",
    "print(property_ratio)    \n",
    "#normalizing\n",
    "maxi = max(property_ratio)\n",
    "mini = min(property_ratio)\n",
    "for i in range(len(property_ratio)):\n",
    "    property_ratio[i] = ((property_ratio[i] - mini)/(maxi - mini))*5\n",
    "print(property_ratio)"
   ]
  },
  {
   "attachments": {},
   "cell_type": "markdown",
   "metadata": {},
   "source": [
    "Collecting Average Annual Rainfall in mm"
   ]
  },
  {
   "cell_type": "code",
   "execution_count": 12,
   "metadata": {},
   "outputs": [
    {
     "name": "stdout",
     "output_type": "stream",
     "text": [
      "[2168.0, 1541.0, 1800.0, 790.0, 979.0, 803.0, 710.0, 2220.0, 1118.0, 905.0, 1428.0, 1116.0, 1062.0]\n",
      "[4.827814569536423, 2.751655629139073, 3.609271523178808, 0.26490066225165565, 0.890728476821192, 0.3079470198675497, 0.0, 5.0, 1.3509933774834437, 0.6456953642384106, 2.377483443708609, 1.3443708609271523, 1.165562913907285]\n"
     ]
    }
   ],
   "source": [
    "# options = Options()\n",
    "# options.headless = True\n",
    "# options.add_argument(\"--window-size=1920,1200\")\n",
    "rain_list = [0.0]*len(cities)\n",
    "DRIVER_PATH = \"/path/to/chromedriver\"\n",
    "driver = webdriver.Chrome(service=Service(ChromeDriverManager().install()))\n",
    "driver.get(\"https://www.currentresults.com/Weather/India/average-yearly-precipitation.php\")\n",
    "for i in range(1,16):\n",
    "    city = driver.find_element(\"xpath\",\"html/body/div[1]/div[@id = 'maincol']/div[1]/div[4]/table[1]/tbody/tr[\"+str(i)+\"]/td[2]\")\n",
    "    rain = driver.find_element(\"xpath\",\"html/body/div[1]/div[@id = 'maincol']/div[1]/div[4]/table[1]/tbody/tr[\"+str(i)+\"]/td[5]\")\n",
    "    if(city.text == \"New Delhi\"):\n",
    "        rain_list[dict[\"Delhi\"]] = float(rain.text)\n",
    "    if(city.text == \"Srinagar\"):\n",
    "        rain_list[dict[\"Jammu\"]] = float(rain.text)\n",
    "    if(city.text in dict):\n",
    "        rain_list[dict[city.text]] = float(rain.text)\n",
    "for i in range(1,13):\n",
    "    city = driver.find_element(\"xpath\",\"html/body/div[1]/div[@id = 'maincol']/div[1]/div[4]/table[2]/tbody/tr[\"+str(i)+\"]/td[2]\")\n",
    "    rain = driver.find_element(\"xpath\",\"html/body/div[1]/div[@id = 'maincol']/div[1]/div[4]/table[2]/tbody/tr[\"+str(i)+\"]/td[5]\")\n",
    "    if(city.text == \"Kolkata (Calcutta)\"):\n",
    "        rain_list[dict[\"Kolkata\"]] = float(rain.text)\n",
    "    if(city.text in dict):\n",
    "        rain_list[dict[city.text]] = float(rain.text)\n",
    "for i in range(1,14):\n",
    "    city = driver.find_element(\"xpath\",\"html/body/div[1]/div[@id = 'maincol']/div[1]/div[4]/table[3]/tbody/tr[\"+str(i)+\"]/td[2]\")\n",
    "    rain = driver.find_element(\"xpath\",\"html/body/div[1]/div[@id = 'maincol']/div[1]/div[4]/table[3]/tbody/tr[\"+str(i)+\"]/td[5]\")\n",
    "    if(city.text in dict):\n",
    "        rain_list[dict[city.text]] = float(rain.text)\n",
    "for i in range(1,13):\n",
    "    city = driver.find_element(\"xpath\",\"html/body/div[1]/div[@id = 'maincol']/div[1]/div[4]/table[4]/tbody/tr[\"+str(i)+\"]/td[2]\")\n",
    "    rain = driver.find_element(\"xpath\",\"html/body/div[1]/div[@id = 'maincol']/div[1]/div[4]/table[4]/tbody/tr[\"+str(i)+\"]/td[5]\")\n",
    "    if(city.text in dict):\n",
    "        rain_list[dict[city.text]] = float(rain.text)\n",
    "\n",
    "\n",
    "\n",
    "print(rain_list)\n",
    "#normalizing\n",
    "maxi = max(rain_list)\n",
    "mini = min(rain_list)\n",
    "for i in range(len(rain_list)):\n",
    "    rain_list[i] = ((rain_list[i] - mini)/(maxi - mini))*5\n",
    "print(rain_list)"
   ]
  },
  {
   "attachments": {},
   "cell_type": "markdown",
   "metadata": {},
   "source": [
    "Collecting Natural Calamitites Data (This will include type, description and articles). To extract the location out of these details we will have to use an NLP library."
   ]
  },
  {
   "cell_type": "code",
   "execution_count": 63,
   "metadata": {},
   "outputs": [
    {
     "name": "stdout",
     "output_type": "stream",
     "text": [
      "[['Flood, Landslide', 'Heavy rainfall has been affecting northeastern India (in particular Arunchal Pradesh, Assam, and Meghalaya States) since 13 May 2022, triggering landslides and causing river overflow and floods that have resulted in casualties and damage. Media report, as of 16 May, seven fatalities, of which one in Itanagar City (southern Arunchal Pradesh), due to a landslide, three in the Dima Hasao District (central Assam) also in this case due to a landslide, and three more across central Meghalaya (two in East Khasi Hills District and one Ri-Bhoi District) due to floods.', 'DMC 2022/08/10\\nSituation report regarding Flood/ Heavy rainfall as on 10 2022 at 1800 Hrs'], ['Flood', 'The Disaster Management Division (DMD) of India, reports that at least 24 people have lost their lives after floods in the state of Andhra Pradesh that began from 18-19 November 2021. DMD said that, as of 21 November, 24 people had lost their lives and 17 were missing.', 'DMC 2021/11/22\\nTotal 32 persons have been died, 30 persons are still missing and 3699 houses damaged.'], ['Flood', 'Ongoing floods caused by heavy rains have been affecting the state of Tamil Nadu, southern India since 7 November 2021. 14 people have lost their lives and thousands of people have been displaced due to the disasters.', 'Floodlist 2021/11/12\\nOver 11,000 Displaced by Tamil Nadu Floods']]\n"
     ]
    }
   ],
   "source": [
    "# options = Options()\n",
    "# options.headless = True\n",
    "# options.add_argument(\"--window-size=1920,1200\")\n",
    "natural_calamities = []\n",
    "DRIVER_PATH = \"/path/to/chromedriver\"\n",
    "driver = webdriver.Chrome(service=Service(ChromeDriverManager().install()))\n",
    "driver.get(\"https://www.adrc.asia/latest_disaster.php?country%5B%5D=356&event%5B%5D=&word=&duration_start=2015%2F01%2F01&duration_end=2023%2F04%2F12&order=1&per_page=200\")\n",
    "for i in range(1,4):#43 is the actual number\n",
    "    val = driver.find_element(\"xpath\",\"//div[@id = 'main_2col_in']/section[1]/div[2]/div[1]/table/tbody/tr[\"+str(i)+\"]/td[1]/a[1]\")\n",
    "    driver.get(val.get_attribute(\"href\"))\n",
    "    desc = driver.find_element(\"xpath\",\"//div[@id = 'main_2col_in']/section[1]/div[1]/table/tbody/tr[4]/td[1]\")\n",
    "    name = driver.find_element(\"xpath\",\"//div[@id = 'main_2col_in']/section[1]/div[1]/table/tbody/tr[3]/td[1]\")\n",
    "    article = driver.find_element(\"xpath\",\"//div[@id = 'main_2col_in']/section[1]/div[3]/p[2]\")\n",
    "    natural_calamities.append([name.text,desc.text,article.text])\n",
    "    driver.back()\n",
    "print(natural_calamities)"
   ]
  },
  {
   "attachments": {},
   "cell_type": "markdown",
   "metadata": {},
   "source": [
    "Collecting Traffic Indices of Various Indian Cities\n",
    "Traffic Index is a composite index of time consumed in traffic due to job commute, estimation of time consumption dissatisfaction, CO2 consumption estimation in traffic and overall inefficiencies in the traffic system."
   ]
  },
  {
   "cell_type": "code",
   "execution_count": 13,
   "metadata": {},
   "outputs": [
    {
     "name": "stdout",
     "output_type": "stream",
     "text": [
      "[260.13, 200.43, 268.67, 284.95, 178.03, 179.97, 95.2, 159.73, 128.72, 253.59, 131.95, 95.77, 141.12]\n",
      "[4.3459815546772065, 2.7728590250329384, 4.571014492753624, 5.0, 2.182608695652174, 2.233728590250329, 0.0, 1.7003952569169958, 0.8832674571805006, 4.17364953886693, 0.9683794466403159, 0.015019762845849622, 1.2100131752305667]\n"
     ]
    }
   ],
   "source": [
    "traffic_index = [0.0]*len(cities)\n",
    "# options = Options()\n",
    "# options.headless = True\n",
    "# options.add_argument(\"--window-size=1920,1200\")\n",
    "\n",
    "DRIVER_PATH = \"/path/to/chromedriver\"\n",
    "# driver = webdriver.Chrome(options=options,executable_path=DRIVER_PATH)\n",
    "driver = webdriver.Chrome(service=Service(ChromeDriverManager().install()))\n",
    "for i in cities:\n",
    "    if i == \"New Delhi\":\n",
    "        driver.get(\"https://www.numbeo.com/traffic/in/Delhi\")\n",
    "    elif i == \"Lucknow\":\n",
    "        driver.get(\"https://www.numbeo.com/traffic/in/Lucknow-Lakhnau\")\n",
    "    else:\n",
    "        driver.get(\"https://www.numbeo.com/traffic/in/\" + i)\n",
    "    traffic = driver.find_element(\"xpath\",\"html/body/div[2]/aside/table/tbody/tr[2]/td[2]\")\n",
    "    traffic_index[dict[i]] = float(traffic.text)\n",
    "print(traffic_index)    \n",
    "#normalizing\n",
    "maxi = max(traffic_index)\n",
    "mini = min(traffic_index)\n",
    "for i in range(len(traffic_index)):\n",
    "    traffic_index[i] = ((traffic_index[i] - mini)/(maxi - mini))*5\n",
    "print(traffic_index)"
   ]
  },
  {
   "attachments": {},
   "cell_type": "markdown",
   "metadata": {},
   "source": [
    "Unemployment Rate "
   ]
  },
  {
   "cell_type": "code",
   "execution_count": 14,
   "metadata": {},
   "outputs": [
    {
     "name": "stdout",
     "output_type": "stream",
     "text": [
      "[3.8545454545454545, 3.8272727272727276, 5.79090909090909, 10.299999999999999, 3.4818181818181824, 6.154545454545453, 20.518181818181816, 3.7222222222222223, 2.2, 2.972727272727272, 13.881818181818181, 15.02727272727273, 2.2]\n",
      "[0.45161290322580644, 0.4441687344913152, 0.9801488833746896, 2.21091811414392, 0.34987593052109195, 1.0794044665012406, 5.0, 0.41549489936586714, 0.0, 0.21091811414392042, 3.188585607940446, 3.5012406947890824, 0.0]\n"
     ]
    }
   ],
   "source": [
    "df = pd.read_csv('./Unemploymnet.csv')\n",
    "# print(df)\n",
    "unemployment=[]\n",
    "\n",
    "for i in states:\n",
    "    for k in range(0,27):\n",
    "        if(i==df.loc[k][0]):\n",
    "            sum=0        \n",
    "            c = 0 \n",
    "            for y in range(1,12):\n",
    "                if(pd.isna(df.loc[k][y]) == False):\n",
    "                    sum+=float(df.loc[k][y])\n",
    "                    c = c + 1\n",
    "            avg=sum/c\n",
    "            unemployment.append(avg)\n",
    "            break\n",
    "print(unemployment)\n",
    "#normalizing\n",
    "maxi = max(unemployment)\n",
    "mini = min(unemployment)\n",
    "for i in range(len(unemployment)):\n",
    "    unemployment[i] = ((unemployment[i] - mini)/(maxi - mini))*5\n",
    "print(unemployment)"
   ]
  },
  {
   "attachments": {},
   "cell_type": "markdown",
   "metadata": {},
   "source": [
    "Life Expectancy vector"
   ]
  },
  {
   "cell_type": "code",
   "execution_count": 15,
   "metadata": {},
   "outputs": [
    {
     "name": "stdout",
     "output_type": "stream",
     "text": [
      "Maharashtra Found\n",
      "Tamil Nadu Found\n",
      "West Bengal Found\n",
      "Delhi Found\n",
      "Uttar Pradesh Found\n",
      "Andhra Pradesh Found\n",
      "Jammu & Kashmir Found\n",
      "Uttarakhand Found\n",
      "Madhya Pradesh Found\n",
      "Karnataka Found\n",
      "Jharkhand Found\n",
      "Bihar Found\n",
      "Madhya Pradesh Found\n",
      "[72.7, 72.6, 72.1, 75.9, 65.6, 70.3, 74.2, 70.6, 67.0, 69.5, 69.4, 69.2, 67.0]\n",
      "[3.446601941747573, 3.3980582524271807, 3.155339805825239, 5.0, 0.0, 2.2815533980582514, 4.174757281553397, 2.4271844660194146, 0.6796116504854389, 1.8932038834951461, 1.8446601941747607, 1.747572815533983, 0.6796116504854389]\n"
     ]
    }
   ],
   "source": [
    "dd=pd.read_csv('./Life Expectancy - Sheet1.csv')\n",
    "life_expectancy=[]\n",
    "x=0\n",
    "for i in states:\n",
    "    for k in range(2,24):\n",
    "        if(i==dd.loc[k][0]):\n",
    "            print(i + \" Found\")\n",
    "            life_expectancy.append(float(dd.loc[k][3]))\n",
    "            x=x+1\n",
    "            break\n",
    "print(life_expectancy)\n",
    "#normalizing\n",
    "maxi = max(life_expectancy)\n",
    "mini = min(life_expectancy)\n",
    "for i in range(len(life_expectancy)):\n",
    "    life_expectancy[i] = ((life_expectancy[i] - mini)/(maxi - mini))*5\n",
    "print(life_expectancy)"
   ]
  },
  {
   "attachments": {},
   "cell_type": "markdown",
   "metadata": {},
   "source": [
    "Factories/Workers emloyed by them"
   ]
  },
  {
   "cell_type": "code",
   "execution_count": 16,
   "metadata": {},
   "outputs": [
    {
     "name": "stdout",
     "output_type": "stream",
     "text": [
      "[3.160975474111562, 5.0, 0.9419665202157833, 0.05338968911628942, 1.8504254490851455, 1.953311829152995, 0.01306935098159168, 0.263611590011679, 1.5702686168733662, 0.0, 0.07702574940214671, 0.263611590011679]\n",
      "[2.02963426624582, 1.547462740643787, 1.8851417924742087, 0.0, 1.6043416591213664, 0.2625271990077627, 5.0, 2.33929880490357, 1.885797131136784, 1.681964083433145, 0.18282706525304115, 2.33929880490357]\n"
     ]
    }
   ],
   "source": [
    "file=pd.read_csv('./factories - Sheet1.csv')\n",
    "factories = []\n",
    "workers_engaged=[]\n",
    "file.loc[0][3]\n",
    "for i in states:\n",
    "    for k in range(0,35):\n",
    "        if(i==file.loc[k][1]):\n",
    "            factories.append(float(file.loc[k][2]))\n",
    "            workers_engaged.append(float(file.loc[k][3]) / float(file.loc[k][2]))\n",
    "            x=x+1\n",
    "            break\n",
    "#normalizing factories\n",
    "maxi = max(factories)\n",
    "mini = min(factories)\n",
    "for i in range(len(factories)):\n",
    "    factories[i] = ((factories[i] - mini)/(maxi - mini))*5\n",
    "#normalizing workers_engaged\n",
    "maxi = max(workers_engaged)\n",
    "mini = min(workers_engaged)\n",
    "for i in range(len(workers_engaged)):\n",
    "    workers_engaged[i] = ((workers_engaged[i] - mini)/(maxi - mini))*5\n",
    "print(factories)\n",
    "print(workers_engaged)"
   ]
  },
  {
   "attachments": {},
   "cell_type": "markdown",
   "metadata": {},
   "source": [
    "Accidents/No of people killed"
   ]
  },
  {
   "cell_type": "code",
   "execution_count": 17,
   "metadata": {},
   "outputs": [
    {
     "name": "stdout",
     "output_type": "stream",
     "text": [
      "[3379, 7486, 4104, 1639, 2945, 3571, 923, 5143]\n",
      "[1.8710955355782417, 5.0, 2.4234344049977143, 0.545482248971507, 1.5404540606429986, 2.017370105134847, 0.0, 3.214993143379552]\n",
      "[562, 1183, 407, 631, 448, 248, 484, 431]\n",
      "[1.679144385026738, 5.0, 0.8502673796791443, 2.048128342245989, 1.0695187165775402, 0.0, 1.2620320855614973, 0.9786096256684491]\n"
     ]
    }
   ],
   "source": [
    "f1=pd.read_csv('./Accidents_road.csv')\n",
    "accidents =[]\n",
    "num_killed = []\n",
    "for i in cities:\n",
    "    for k in range(0,35):\n",
    "        if(i==f1.loc[k][1]):\n",
    "            accidents.append(f1.loc[k][2])\n",
    "            num_killed.append(f1.loc[k][3])\n",
    "            break\n",
    "print(accidents)\n",
    "#normalizing\n",
    "maxi = max(accidents)\n",
    "mini = min(accidents)\n",
    "for i in range(len(accidents)):\n",
    "    accidents[i] = ((accidents[i] - mini)/(maxi - mini))*5\n",
    "print(accidents)\n",
    "print(num_killed)\n",
    "#normalizing\n",
    "maxi = max(num_killed)\n",
    "mini = min(num_killed)\n",
    "for i in range(len(num_killed)):\n",
    "    num_killed[i] = ((num_killed[i] - mini)/(maxi - mini))*5\n",
    "print(num_killed)\n",
    "        "
   ]
  },
  {
   "cell_type": "markdown",
   "metadata": {},
   "source": [
    "Monthly Food Price"
   ]
  },
  {
   "cell_type": "code",
   "execution_count": 30,
   "metadata": {},
   "outputs": [
    {
     "ename": "ValueError",
     "evalue": "could not convert string to float: '7,567.60 ₹'",
     "output_type": "error",
     "traceback": [
      "\u001b[1;31m---------------------------------------------------------------------------\u001b[0m",
      "\u001b[1;31mValueError\u001b[0m                                Traceback (most recent call last)",
      "\u001b[1;32mc:\\Users\\varun\\Documents\\B-Tech-Project\\btp.ipynb Cell 35\u001b[0m line \u001b[0;36m1\n\u001b[0;32m     <a href='vscode-notebook-cell:/c%3A/Users/varun/Documents/B-Tech-Project/btp.ipynb#X51sZmlsZQ%3D%3D?line=15'>16</a>\u001b[0m         driver\u001b[39m.\u001b[39mget(\u001b[39m\"\u001b[39m\u001b[39mhttps://www.numbeo.com/food-prices/in/\u001b[39m\u001b[39m\"\u001b[39m \u001b[39m+\u001b[39m i)\n\u001b[0;32m     <a href='vscode-notebook-cell:/c%3A/Users/varun/Documents/B-Tech-Project/btp.ipynb#X51sZmlsZQ%3D%3D?line=16'>17</a>\u001b[0m     food \u001b[39m=\u001b[39m driver\u001b[39m.\u001b[39mfind_element(\u001b[39m\"\u001b[39m\u001b[39mxpath\u001b[39m\u001b[39m\"\u001b[39m,\u001b[39m\"\u001b[39m\u001b[39mhtml/body/div[2]/table[2]/tbody/tr[14]/td[2]\u001b[39m\u001b[39m\"\u001b[39m)\n\u001b[1;32m---> <a href='vscode-notebook-cell:/c%3A/Users/varun/Documents/B-Tech-Project/btp.ipynb#X51sZmlsZQ%3D%3D?line=17'>18</a>\u001b[0m     food_prices[\u001b[39mdict\u001b[39m[i]] \u001b[39m=\u001b[39m \u001b[39mfloat\u001b[39;49m(food\u001b[39m.\u001b[39;49mtext)\n\u001b[0;32m     <a href='vscode-notebook-cell:/c%3A/Users/varun/Documents/B-Tech-Project/btp.ipynb#X51sZmlsZQ%3D%3D?line=22'>23</a>\u001b[0m \u001b[39mprint\u001b[39m(food_prices)    \n\u001b[0;32m     <a href='vscode-notebook-cell:/c%3A/Users/varun/Documents/B-Tech-Project/btp.ipynb#X51sZmlsZQ%3D%3D?line=23'>24</a>\u001b[0m \u001b[39m#normalizing\u001b[39;00m\n",
      "\u001b[1;31mValueError\u001b[0m: could not convert string to float: '7,567.60 ₹'"
     ]
    }
   ],
   "source": [
    "food_prices = [0.0]*len(cities)\n",
    "DRIVER_PATH = \"/path/to/chromedriver\"\n",
    "driver = webdriver.Chrome(service=Service(ChromeDriverManager().install()))\n",
    "for i in cities:\n",
    "    # try:\n",
    "    #     flag = driver.find_element(\"xpath\",\"html/body/div[3]/div[4]/form[0]/table[0]/tbody[0]/tr[0]/td[0]\")\n",
    "    #     if(flag.text == \"Your Email Address:\"):\n",
    "    #         print(\"Pop-up\")\n",
    "    # except:\n",
    "    #     print(\"No Pop-up\")\n",
    "    if i == \"Lucknow\":\n",
    "        driver.get(\"https://www.numbeo.com/food-prices/in/Lucknow-Lakhnau\")\n",
    "    elif i == \"New Delhi\":\n",
    "        driver.get(\"https://www.numbeo.com/food-prices/in/Delhi\")\n",
    "    else:\n",
    "        driver.get(\"https://www.numbeo.com/food-prices/in/\" + i)\n",
    "    food = driver.find_element(\"xpath\",\"html/body/div[2]/table[2]/tbody/tr[14]/td[2]\")\n",
    "    ele = food.text\n",
    "    s = \"\"\n",
    "    for j in ele:\n",
    "        if(j.isdigit()):\n",
    "            s = s + j\n",
    "    food_prices[dict[i]] = float(s)\n",
    "            \n",
    "        \n",
    "\n",
    "\n",
    "print(food_prices)    \n",
    "#normalizing\n",
    "maxi = max(food_prices)\n",
    "mini = min(food_prices)\n",
    "for i in range(len(food_prices)):\n",
    "    food_prices[i] = ((food_prices[i] - mini)/(maxi - mini))*5\n",
    "print(food_prices)"
   ]
  }
 ],
 "metadata": {
  "kernelspec": {
   "display_name": "Python 3",
   "language": "python",
   "name": "python3"
  },
  "language_info": {
   "codemirror_mode": {
    "name": "ipython",
    "version": 3
   },
   "file_extension": ".py",
   "mimetype": "text/x-python",
   "name": "python",
   "nbconvert_exporter": "python",
   "pygments_lexer": "ipython3",
   "version": "3.10.11"
  },
  "orig_nbformat": 4
 },
 "nbformat": 4,
 "nbformat_minor": 2
}

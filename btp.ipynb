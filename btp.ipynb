{
 "cells": [
  {
   "cell_type": "code",
   "execution_count": 7,
   "metadata": {},
   "outputs": [
    {
     "name": "stdout",
     "output_type": "stream",
     "text": [
      "Requirement already satisfied: selenium in c:\\users\\varun\\appdata\\local\\packages\\pythonsoftwarefoundation.python.3.10_qbz5n2kfra8p0\\localcache\\local-packages\\python310\\site-packages (4.7.2)\n",
      "Collecting selenium\n",
      "  Downloading selenium-4.14.0-py3-none-any.whl (9.9 MB)\n",
      "     ---------------------------------------- 0.0/9.9 MB ? eta -:--:--\n",
      "     ---------------------------------------- 0.0/9.9 MB 1.3 MB/s eta 0:00:08\n",
      "     ---------------------------------------- 0.1/9.9 MB 1.1 MB/s eta 0:00:10\n",
      "      --------------------------------------- 0.2/9.9 MB 1.5 MB/s eta 0:00:07\n",
      "     - -------------------------------------- 0.3/9.9 MB 1.6 MB/s eta 0:00:06\n",
      "     - -------------------------------------- 0.4/9.9 MB 1.7 MB/s eta 0:00:06\n",
      "     -- ------------------------------------- 0.7/9.9 MB 2.4 MB/s eta 0:00:04\n",
      "     --- ------------------------------------ 0.8/9.9 MB 2.6 MB/s eta 0:00:04\n",
      "     ----- ---------------------------------- 1.5/9.9 MB 4.0 MB/s eta 0:00:03\n",
      "     -------- ------------------------------- 2.0/9.9 MB 4.9 MB/s eta 0:00:02\n",
      "     ------------ --------------------------- 3.0/9.9 MB 6.6 MB/s eta 0:00:02\n",
      "     ----------------- ---------------------- 4.3/9.9 MB 8.4 MB/s eta 0:00:01\n",
      "     -------------------- ------------------- 5.2/9.9 MB 8.9 MB/s eta 0:00:01\n",
      "     ------------------------ --------------- 6.2/9.9 MB 10.1 MB/s eta 0:00:01\n",
      "     ----------------------------- ---------- 7.4/9.9 MB 10.9 MB/s eta 0:00:01\n",
      "     --------------------------------- ------ 8.2/9.9 MB 11.5 MB/s eta 0:00:01\n",
      "     ------------------------------------- -- 9.4/9.9 MB 12.5 MB/s eta 0:00:01\n",
      "     ---------------------------------------  9.9/9.9 MB 12.7 MB/s eta 0:00:01\n",
      "     ---------------------------------------- 9.9/9.9 MB 11.7 MB/s eta 0:00:00\n",
      "Requirement already satisfied: urllib3[socks]<3,>=1.26 in c:\\users\\varun\\appdata\\local\\packages\\pythonsoftwarefoundation.python.3.10_qbz5n2kfra8p0\\localcache\\local-packages\\python310\\site-packages (from selenium) (1.26.13)\n",
      "Requirement already satisfied: trio~=0.17 in c:\\users\\varun\\appdata\\local\\packages\\pythonsoftwarefoundation.python.3.10_qbz5n2kfra8p0\\localcache\\local-packages\\python310\\site-packages (from selenium) (0.22.0)\n",
      "Requirement already satisfied: certifi>=2021.10.8 in c:\\users\\varun\\appdata\\local\\packages\\pythonsoftwarefoundation.python.3.10_qbz5n2kfra8p0\\localcache\\local-packages\\python310\\site-packages (from selenium) (2022.12.7)\n",
      "Requirement already satisfied: trio-websocket~=0.9 in c:\\users\\varun\\appdata\\local\\packages\\pythonsoftwarefoundation.python.3.10_qbz5n2kfra8p0\\localcache\\local-packages\\python310\\site-packages (from selenium) (0.9.2)\n",
      "Requirement already satisfied: sortedcontainers in c:\\users\\varun\\appdata\\local\\packages\\pythonsoftwarefoundation.python.3.10_qbz5n2kfra8p0\\localcache\\local-packages\\python310\\site-packages (from trio~=0.17->selenium) (2.4.0)\n",
      "Requirement already satisfied: attrs>=19.2.0 in c:\\users\\varun\\appdata\\local\\packages\\pythonsoftwarefoundation.python.3.10_qbz5n2kfra8p0\\localcache\\local-packages\\python310\\site-packages (from trio~=0.17->selenium) (22.1.0)\n",
      "Requirement already satisfied: outcome in c:\\users\\varun\\appdata\\local\\packages\\pythonsoftwarefoundation.python.3.10_qbz5n2kfra8p0\\localcache\\local-packages\\python310\\site-packages (from trio~=0.17->selenium) (1.2.0)\n",
      "Requirement already satisfied: exceptiongroup>=1.0.0rc9 in c:\\users\\varun\\appdata\\local\\packages\\pythonsoftwarefoundation.python.3.10_qbz5n2kfra8p0\\localcache\\local-packages\\python310\\site-packages (from trio~=0.17->selenium) (1.0.4)\n",
      "Requirement already satisfied: idna in c:\\users\\varun\\appdata\\local\\packages\\pythonsoftwarefoundation.python.3.10_qbz5n2kfra8p0\\localcache\\local-packages\\python310\\site-packages (from trio~=0.17->selenium) (3.4)\n",
      "Requirement already satisfied: sniffio in c:\\users\\varun\\appdata\\local\\packages\\pythonsoftwarefoundation.python.3.10_qbz5n2kfra8p0\\localcache\\local-packages\\python310\\site-packages (from trio~=0.17->selenium) (1.3.0)\n",
      "Requirement already satisfied: async-generator>=1.9 in c:\\users\\varun\\appdata\\local\\packages\\pythonsoftwarefoundation.python.3.10_qbz5n2kfra8p0\\localcache\\local-packages\\python310\\site-packages (from trio~=0.17->selenium) (1.10)\n",
      "Requirement already satisfied: cffi>=1.14 in c:\\users\\varun\\appdata\\local\\packages\\pythonsoftwarefoundation.python.3.10_qbz5n2kfra8p0\\localcache\\local-packages\\python310\\site-packages (from trio~=0.17->selenium) (1.15.1)\n",
      "Requirement already satisfied: wsproto>=0.14 in c:\\users\\varun\\appdata\\local\\packages\\pythonsoftwarefoundation.python.3.10_qbz5n2kfra8p0\\localcache\\local-packages\\python310\\site-packages (from trio-websocket~=0.9->selenium) (1.2.0)\n",
      "Requirement already satisfied: PySocks!=1.5.7,<2.0,>=1.5.6 in c:\\users\\varun\\appdata\\local\\packages\\pythonsoftwarefoundation.python.3.10_qbz5n2kfra8p0\\localcache\\local-packages\\python310\\site-packages (from urllib3[socks]<3,>=1.26->selenium) (1.7.1)\n",
      "Requirement already satisfied: pycparser in c:\\users\\varun\\appdata\\local\\packages\\pythonsoftwarefoundation.python.3.10_qbz5n2kfra8p0\\localcache\\local-packages\\python310\\site-packages (from cffi>=1.14->trio~=0.17->selenium) (2.21)\n",
      "Requirement already satisfied: h11<1,>=0.9.0 in c:\\users\\varun\\appdata\\local\\packages\\pythonsoftwarefoundation.python.3.10_qbz5n2kfra8p0\\localcache\\local-packages\\python310\\site-packages (from wsproto>=0.14->trio-websocket~=0.9->selenium) (0.14.0)\n",
      "Installing collected packages: selenium\n",
      "  Attempting uninstall: selenium\n",
      "    Found existing installation: selenium 4.7.2\n",
      "    Uninstalling selenium-4.7.2:\n",
      "      Successfully uninstalled selenium-4.7.2\n",
      "Successfully installed selenium-4.14.0\n"
     ]
    },
    {
     "name": "stderr",
     "output_type": "stream",
     "text": [
      "\n",
      "[notice] A new release of pip is available: 23.0.1 -> 23.2.1\n",
      "[notice] To update, run: C:\\Users\\varun\\AppData\\Local\\Microsoft\\WindowsApps\\PythonSoftwareFoundation.Python.3.10_qbz5n2kfra8p0\\python.exe -m pip install --upgrade pip\n"
     ]
    }
   ],
   "source": [
    "!pip3 install -U selenium"
   ]
  },
  {
   "cell_type": "code",
   "execution_count": 8,
   "metadata": {},
   "outputs": [
    {
     "name": "stdout",
     "output_type": "stream",
     "text": [
      "Collecting webdriver-manager\n",
      "  Downloading webdriver_manager-4.0.1-py2.py3-none-any.whl (27 kB)\n",
      "Requirement already satisfied: requests in c:\\users\\varun\\appdata\\local\\packages\\pythonsoftwarefoundation.python.3.10_qbz5n2kfra8p0\\localcache\\local-packages\\python310\\site-packages (from webdriver-manager) (2.28.1)\n",
      "Requirement already satisfied: python-dotenv in c:\\users\\varun\\appdata\\local\\packages\\pythonsoftwarefoundation.python.3.10_qbz5n2kfra8p0\\localcache\\local-packages\\python310\\site-packages (from webdriver-manager) (1.0.0)\n",
      "Requirement already satisfied: packaging in c:\\users\\varun\\appdata\\local\\packages\\pythonsoftwarefoundation.python.3.10_qbz5n2kfra8p0\\localcache\\local-packages\\python310\\site-packages (from webdriver-manager) (22.0)\n",
      "Requirement already satisfied: idna<4,>=2.5 in c:\\users\\varun\\appdata\\local\\packages\\pythonsoftwarefoundation.python.3.10_qbz5n2kfra8p0\\localcache\\local-packages\\python310\\site-packages (from requests->webdriver-manager) (3.4)\n",
      "Requirement already satisfied: certifi>=2017.4.17 in c:\\users\\varun\\appdata\\local\\packages\\pythonsoftwarefoundation.python.3.10_qbz5n2kfra8p0\\localcache\\local-packages\\python310\\site-packages (from requests->webdriver-manager) (2022.12.7)\n",
      "Requirement already satisfied: urllib3<1.27,>=1.21.1 in c:\\users\\varun\\appdata\\local\\packages\\pythonsoftwarefoundation.python.3.10_qbz5n2kfra8p0\\localcache\\local-packages\\python310\\site-packages (from requests->webdriver-manager) (1.26.13)\n",
      "Requirement already satisfied: charset-normalizer<3,>=2 in c:\\users\\varun\\appdata\\local\\packages\\pythonsoftwarefoundation.python.3.10_qbz5n2kfra8p0\\localcache\\local-packages\\python310\\site-packages (from requests->webdriver-manager) (2.1.1)\n",
      "Installing collected packages: webdriver-manager\n",
      "Successfully installed webdriver-manager-4.0.1\n"
     ]
    },
    {
     "name": "stderr",
     "output_type": "stream",
     "text": [
      "\n",
      "[notice] A new release of pip is available: 23.0.1 -> 23.2.1\n",
      "[notice] To update, run: C:\\Users\\varun\\AppData\\Local\\Microsoft\\WindowsApps\\PythonSoftwareFoundation.Python.3.10_qbz5n2kfra8p0\\python.exe -m pip install --upgrade pip\n"
     ]
    }
   ],
   "source": [
    "!pip3 install webdriver-manager"
   ]
  },
  {
   "cell_type": "code",
   "execution_count": 2,
   "metadata": {},
   "outputs": [],
   "source": [
    "from selenium import webdriver\n",
    "from selenium.webdriver.chrome.service import Service\n",
    "from webdriver_manager.chrome import ChromeDriverManager\n",
    "from selenium.webdriver.chrome.options import Options\n",
    "from selenium.common.exceptions import NoSuchElementException\n",
    "from selenium.webdriver.chrome.options import Options\n",
    "import pandas as pd"
   ]
  },
  {
   "cell_type": "code",
   "execution_count": 3,
   "metadata": {},
   "outputs": [],
   "source": [
    "\n",
    "cities = [\"Mumbai\",\"Chennai\",\"Kolkata\",\"New Delhi\",\"Lucknow\"]\n",
    "states = [\"Maharashtra\",\"Tamil Nadu\",\"West Bengal\",\"Delhi\",\"Uttar Pradesh\"]"
   ]
  },
  {
   "attachments": {},
   "cell_type": "markdown",
   "metadata": {},
   "source": [
    "Creating Map of cities to Index and states to Index"
   ]
  },
  {
   "cell_type": "code",
   "execution_count": 4,
   "metadata": {},
   "outputs": [
    {
     "name": "stdout",
     "output_type": "stream",
     "text": [
      "{'Mumbai': 0, 'Chennai': 1, 'Kolkata': 2, 'New Delhi': 3, 'Lucknow': 4, 'Maharashtra': 0, 'Tamil Nadu': 1, 'West Bengal': 2, 'Delhi': 3, 'Uttar Pradesh': 4}\n"
     ]
    }
   ],
   "source": [
    "a = 0\n",
    "dict = {}\n",
    "for i in cities:\n",
    "    dict.update({i : a})\n",
    "    a = a + 1\n",
    "a= 0\n",
    "for i in states:\n",
    "    dict.update({i:a})\n",
    "    a = a + 1\n",
    "print(dict)"
   ]
  },
  {
   "attachments": {},
   "cell_type": "markdown",
   "metadata": {},
   "source": [
    "Dynamically Finding AQI of all cities considered."
   ]
  },
  {
   "cell_type": "code",
   "execution_count": 55,
   "metadata": {},
   "outputs": [
    {
     "name": "stdout",
     "output_type": "stream",
     "text": [
      "77\n",
      "40\n",
      "108\n",
      "293\n",
      "187\n",
      "[77, 40, 108, 293, 187]\n"
     ]
    }
   ],
   "source": [
    "aqi_list = [0]*len(cities)\n",
    "op = webdriver.ChromeOptions()\n",
    "op.add_argument = {'user-data-dir':'/Users/Application/Chrome/Default'}\n",
    "\n",
    "DRIVER_PATH = \"/path/to/chromedriver\"\n",
    "driver = webdriver.Chrome(service=Service(ChromeDriverManager().install()),options=op)\n",
    "for i in cities:\n",
    "    driver.get(\"https://www.google.com/search?q=\"+i+\"+aqi\")\n",
    "    aqi = driver.find_element(\"xpath\",\"//span[@class = 'pnbfad']\")\n",
    "    print(aqi.text)\n",
    "    aqi_list[dict[i]] = int(aqi.text)\n",
    "print(aqi_list)\n",
    "driver.quit()\n"
   ]
  },
  {
   "cell_type": "code",
   "execution_count": null,
   "metadata": {},
   "outputs": [
    {
     "name": "stdout",
     "output_type": "stream",
     "text": [
      "[0.7312252964426877, 0.0, 1.3438735177865613, 5.0, 2.9051383399209483]\n",
      "[0.7312252964426877, 0.0, 1.3438735177865613, 5.0, 2.9051383399209483]\n"
     ]
    }
   ],
   "source": [
    "print(aqi_list)\n",
    "maxi = max(aqi_list)\n",
    "mini = min(aqi_list)\n",
    "for i in range(len(aqi_list)):\n",
    "    aqi_list[i] = ((aqi_list[i] - mini)/(maxi - mini))*5\n",
    "print(aqi_list)\n"
   ]
  },
  {
   "attachments": {},
   "cell_type": "markdown",
   "metadata": {},
   "source": [
    "Collecting Population Density of each city. Step 1: Get population of each city (Also get literacy rate as it will be needed in some other category)"
   ]
  },
  {
   "cell_type": "code",
   "execution_count": 80,
   "metadata": {},
   "outputs": [
    {
     "name": "stdout",
     "output_type": "stream",
     "text": [
      "[12442373, 4646732, 4496694, 11034555, 2817105]\n",
      "[89.73, 90.18, 86.31, 87.59, 82.5]\n",
      "[4.707031249999998, 5.0, 2.480468749999999, 3.3138020833333326, 0.0]\n"
     ]
    }
   ],
   "source": [
    "\n",
    "# options = Options()\n",
    "# options.headless = True\n",
    "# options.add_argument(\"--window-size=1920,1200\")\n",
    "pop_list = [0]*len(cities)\n",
    "lit_rate = [0.0]*len(cities)\n",
    "DRIVER_PATH = \"/path/to/chromedriver\"\n",
    "driver = webdriver.Chrome(service=Service(ChromeDriverManager().install()))\n",
    "driver.get(\"https://www.census2011.co.in/city.php\")\n",
    "i = 1\n",
    "for i in range(1,499):\n",
    "    ele1 = driver.find_element(\"xpath\",\"//table/tbody/tr[\"+str(i)+\"]/td[2]\")\n",
    "    ele2 = driver.find_element(\"xpath\",\"//table/tbody/tr[\"+str(i)+\"]/td[4]\")\n",
    "    ele3 = driver.find_element(\"xpath\",\"//table/tbody/tr[\"+str(i)+\"]/td[7]\")\n",
    "    city = ele1.text\n",
    "    pop = ele2.text\n",
    "    lit = ele3.text\n",
    "    population = \"\"\n",
    "    for element in pop:\n",
    "        if element != ',':\n",
    "            population = population + element\n",
    "    if(city in dict):\n",
    "        pop_list[dict[city]] = int(population)\n",
    "        lit_rate[dict[city]] = float(lit)\n",
    "print(pop_list)\n",
    "print(lit_rate)\n",
    "#normalizing\n",
    "maxi = max(lit_rate)\n",
    "mini = min(lit_rate)\n",
    "for i in range(len(lit_rate)):\n",
    "    lit_rate[i] = ((lit_rate[i] - mini)/(maxi - mini))*5\n",
    "print(lit_rate)\n",
    "        "
   ]
  },
  {
   "attachments": {},
   "cell_type": "markdown",
   "metadata": {},
   "source": [
    "Step 2: Get area of city."
   ]
  },
  {
   "cell_type": "code",
   "execution_count": 30,
   "metadata": {},
   "outputs": [
    {
     "name": "stdout",
     "output_type": "stream",
     "text": [
      "[603.4, 426.0, 206.1, 42.7, 631.0]\n"
     ]
    }
   ],
   "source": [
    "area_list = [0.0]*len(cities)\n",
    "options = webdriver.ChromeOptions\n",
    "# options.headless = True\n",
    "# options.add_argument = {'user-data-dir':'<path of specific Chrome profile>'}\n",
    "\n",
    "DRIVER_PATH = \"/path/to/chromedriver\"\n",
    "driver = webdriver.Chrome(service=Service(ChromeDriverManager().install()))\n",
    "for i in cities:\n",
    "    driver.get(\"https://www.google.com/search?q=\"+i+\"+area\")\n",
    "    area = driver.find_element(\"xpath\",\"//div[@class = 'Z0LcW t2b5Cf']\")\n",
    "    a = \"\"\n",
    "    for ele in area.text:\n",
    "        if ele == \" \":\n",
    "            break\n",
    "        a = a + ele\n",
    "    area_list[dict[i]] = float(a)\n",
    "driver.quit()\n",
    "print(area_list)"
   ]
  },
  {
   "attachments": {},
   "cell_type": "markdown",
   "metadata": {},
   "source": [
    "Step 3: Calculate Population Density"
   ]
  },
  {
   "cell_type": "code",
   "execution_count": 31,
   "metadata": {},
   "outputs": [
    {
     "name": "stdout",
     "output_type": "stream",
     "text": [
      "[20620.439177991382, 10907.821596244132, 21818.02037845706, 258420.49180327868, 4464.5087163232965]\n"
     ]
    }
   ],
   "source": [
    "pop_density = [0.0]*len(cities)\n",
    "for i in range(0,len(cities)):\n",
    "    pop_density[i] = (float(pop_list[i]))/area_list[i]\n",
    "print(pop_density)\n",
    "#normalizing\n",
    "maxi = max(pop_density)\n",
    "mini = min(pop_density)\n",
    "for i in range(len(pop_density)):\n",
    "    pop_density[i] = ((pop_density[i] - mini)/(maxi - mini))*5\n",
    "print(pop_density)"
   ]
  },
  {
   "attachments": {},
   "cell_type": "markdown",
   "metadata": {},
   "source": [
    "Collecting Crime Rate of Indian Cities."
   ]
  },
  {
   "cell_type": "code",
   "execution_count": 59,
   "metadata": {},
   "outputs": [
    {
     "name": "stdout",
     "output_type": "stream",
     "text": [
      "[44.94, 39.76, 46.07, 59.31, 46.47]\n"
     ]
    }
   ],
   "source": [
    "crime_rate = [0.0]*len(cities)\n",
    "DRIVER_PATH = \"/path/to/chromedriver\"\n",
    "driver = webdriver.Chrome(service=Service(ChromeDriverManager().install()))\n",
    "for i in cities:\n",
    "    # try:\n",
    "    #     flag = driver.find_element(\"xpath\",\"html/body/div[3]/div[4]/form[0]/table[0]/tbody[0]/tr[0]/td[0]\")\n",
    "    #     if(flag.text == \"Your Email Address:\"):\n",
    "    #         print(\"Pop-up\")\n",
    "    # except:\n",
    "    #     print(\"No Pop-up\")\n",
    "    if i == \"Lucknow\":\n",
    "        driver.get(\"https://www.numbeo.com/crime/in/Lucknow-Lakhnau\")\n",
    "    elif i == \"New Delhi\":\n",
    "        driver.get(\"https://www.numbeo.com/crime/in/Delhi\")\n",
    "    else:\n",
    "        driver.get(\"https://www.numbeo.com/crime/in/\" + i)\n",
    "    crime = driver.find_element(\"xpath\",\"html/body/div[2]/aside[2]/table/tbody/tr[2]/td[2]\")\n",
    "    crime_rate[dict[i]] = float(crime.text)\n",
    "print(crime_rate)    \n",
    "#normalizing\n",
    "maxi = max(crime_rate)\n",
    "mini = min(crime_rate)\n",
    "for i in range(len(crime_rate)):\n",
    "    crime_rate[i] = ((crime_rate[i] - mini)/(maxi - mini))*5\n",
    "print(crime_rate)"
   ]
  },
  {
   "attachments": {},
   "cell_type": "markdown",
   "metadata": {},
   "source": [
    "Collecting the Property Price per Income Ratio"
   ]
  },
  {
   "cell_type": "code",
   "execution_count": 60,
   "metadata": {},
   "outputs": [
    {
     "name": "stdout",
     "output_type": "stream",
     "text": [
      "[32.63, 10.06, 9.98, 10.85, 7.56]\n"
     ]
    }
   ],
   "source": [
    "property_ratio = [0.0]*len(cities)\n",
    "# options = Options()\n",
    "# options.headless = True\n",
    "# options.add_argument(\"--window-size=1920,1200\")\n",
    "\n",
    "DRIVER_PATH = \"/path/to/chromedriver\"\n",
    "driver = webdriver.Chrome(service=Service(ChromeDriverManager().install()))\n",
    "for i in cities:\n",
    "    if i == \"Lucknow\":\n",
    "        driver.get(\"https://www.numbeo.com/property-investment/in/Lucknow-Lakhnau\")\n",
    "    elif i == \"New Delhi\":\n",
    "        driver.get(\"https://www.numbeo.com/property-investment/in/Delhi\")\n",
    "    else:\n",
    "        driver.get(\"https://www.numbeo.com/property-investment/in/\" + i)\n",
    "    property = driver.find_element(\"xpath\",\"html/body/div[2]/div[2]/table/tbody/tr[2]/td[2]\")\n",
    "    property_ratio[dict[i]] = float(property.text)\n",
    "print(property_ratio)    \n",
    "#normalizing\n",
    "maxi = max(property_ratio)\n",
    "mini = min(property_ratio)\n",
    "for i in range(len(property_ratio)):\n",
    "    property_ratio[i] = ((property_ratio[i] - mini)/(maxi - mini))*5\n",
    "print(property_ratio)"
   ]
  },
  {
   "attachments": {},
   "cell_type": "markdown",
   "metadata": {},
   "source": [
    "Collecting Average Annual Rainfall in mm"
   ]
  },
  {
   "cell_type": "code",
   "execution_count": 62,
   "metadata": {},
   "outputs": [
    {
     "name": "stdout",
     "output_type": "stream",
     "text": [
      "[2168.0, 1541.0, 1800.0, 790.0, 979.0]\n"
     ]
    }
   ],
   "source": [
    "# options = Options()\n",
    "# options.headless = True\n",
    "# options.add_argument(\"--window-size=1920,1200\")\n",
    "rain_list = [0.0]*len(cities)\n",
    "DRIVER_PATH = \"/path/to/chromedriver\"\n",
    "driver = webdriver.Chrome(service=Service(ChromeDriverManager().install()))\n",
    "driver.get(\"https://www.currentresults.com/Weather/India/average-yearly-precipitation.php\")\n",
    "for i in range(1,16):\n",
    "    city = driver.find_element(\"xpath\",\"html/body/div[1]/div[@id = 'maincol']/div[1]/div[4]/table[1]/tbody/tr[\"+str(i)+\"]/td[2]\")\n",
    "    rain = driver.find_element(\"xpath\",\"html/body/div[1]/div[@id = 'maincol']/div[1]/div[4]/table[1]/tbody/tr[\"+str(i)+\"]/td[5]\")\n",
    "    if(city.text == \"New Delhi\"):\n",
    "        rain_list[dict[\"Delhi\"]] = float(rain.text)\n",
    "    if(city.text in dict):\n",
    "        rain_list[dict[city.text]] = float(rain.text)\n",
    "for i in range(1,13):\n",
    "    city = driver.find_element(\"xpath\",\"html/body/div[1]/div[@id = 'maincol']/div[1]/div[4]/table[2]/tbody/tr[\"+str(i)+\"]/td[2]\")\n",
    "    rain = driver.find_element(\"xpath\",\"html/body/div[1]/div[@id = 'maincol']/div[1]/div[4]/table[2]/tbody/tr[\"+str(i)+\"]/td[5]\")\n",
    "    if(city.text == \"Kolkata (Calcutta)\"):\n",
    "        rain_list[dict[\"Kolkata\"]] = float(rain.text)\n",
    "    if(city.text in dict):\n",
    "        rain_list[dict[city.text]] = float(rain.text)\n",
    "for i in range(1,14):\n",
    "    city = driver.find_element(\"xpath\",\"html/body/div[1]/div[@id = 'maincol']/div[1]/div[4]/table[3]/tbody/tr[\"+str(i)+\"]/td[2]\")\n",
    "    rain = driver.find_element(\"xpath\",\"html/body/div[1]/div[@id = 'maincol']/div[1]/div[4]/table[3]/tbody/tr[\"+str(i)+\"]/td[5]\")\n",
    "    if(city.text in dict):\n",
    "        rain_list[dict[city.text]] = float(rain.text)\n",
    "for i in range(1,13):\n",
    "    city = driver.find_element(\"xpath\",\"html/body/div[1]/div[@id = 'maincol']/div[1]/div[4]/table[4]/tbody/tr[\"+str(i)+\"]/td[2]\")\n",
    "    rain = driver.find_element(\"xpath\",\"html/body/div[1]/div[@id = 'maincol']/div[1]/div[4]/table[4]/tbody/tr[\"+str(i)+\"]/td[5]\")\n",
    "    if(city.text in dict):\n",
    "        rain_list[dict[city.text]] = float(rain.text)\n",
    "\n",
    "\n",
    "\n",
    "print(rain_list)\n",
    "#normalizing\n",
    "maxi = max(rain_list)\n",
    "mini = min(rain_list)\n",
    "for i in range(len(rain_list)):\n",
    "    rain_list[i] = ((rain_list[i] - mini)/(maxi - mini))*5\n",
    "print(rain_list)"
   ]
  },
  {
   "attachments": {},
   "cell_type": "markdown",
   "metadata": {},
   "source": [
    "Collecting Natural Calamitites Data (This will include type, description and articles). To extract the location out of these details we will have to use an NLP library."
   ]
  },
  {
   "cell_type": "code",
   "execution_count": 63,
   "metadata": {},
   "outputs": [
    {
     "name": "stdout",
     "output_type": "stream",
     "text": [
      "[['Flood, Landslide', 'Heavy rainfall has been affecting northeastern India (in particular Arunchal Pradesh, Assam, and Meghalaya States) since 13 May 2022, triggering landslides and causing river overflow and floods that have resulted in casualties and damage. Media report, as of 16 May, seven fatalities, of which one in Itanagar City (southern Arunchal Pradesh), due to a landslide, three in the Dima Hasao District (central Assam) also in this case due to a landslide, and three more across central Meghalaya (two in East Khasi Hills District and one Ri-Bhoi District) due to floods.', 'DMC 2022/08/10\\nSituation report regarding Flood/ Heavy rainfall as on 10 2022 at 1800 Hrs'], ['Flood', 'The Disaster Management Division (DMD) of India, reports that at least 24 people have lost their lives after floods in the state of Andhra Pradesh that began from 18-19 November 2021. DMD said that, as of 21 November, 24 people had lost their lives and 17 were missing.', 'DMC 2021/11/22\\nTotal 32 persons have been died, 30 persons are still missing and 3699 houses damaged.'], ['Flood', 'Ongoing floods caused by heavy rains have been affecting the state of Tamil Nadu, southern India since 7 November 2021. 14 people have lost their lives and thousands of people have been displaced due to the disasters.', 'Floodlist 2021/11/12\\nOver 11,000 Displaced by Tamil Nadu Floods']]\n"
     ]
    }
   ],
   "source": [
    "# options = Options()\n",
    "# options.headless = True\n",
    "# options.add_argument(\"--window-size=1920,1200\")\n",
    "natural_calamities = []\n",
    "DRIVER_PATH = \"/path/to/chromedriver\"\n",
    "driver = webdriver.Chrome(service=Service(ChromeDriverManager().install()))\n",
    "driver.get(\"https://www.adrc.asia/latest_disaster.php?country%5B%5D=356&event%5B%5D=&word=&duration_start=2015%2F01%2F01&duration_end=2023%2F04%2F12&order=1&per_page=200\")\n",
    "for i in range(1,4):#43 is the actual number\n",
    "    val = driver.find_element(\"xpath\",\"//div[@id = 'main_2col_in']/section[1]/div[2]/div[1]/table/tbody/tr[\"+str(i)+\"]/td[1]/a[1]\")\n",
    "    driver.get(val.get_attribute(\"href\"))\n",
    "    desc = driver.find_element(\"xpath\",\"//div[@id = 'main_2col_in']/section[1]/div[1]/table/tbody/tr[4]/td[1]\")\n",
    "    name = driver.find_element(\"xpath\",\"//div[@id = 'main_2col_in']/section[1]/div[1]/table/tbody/tr[3]/td[1]\")\n",
    "    article = driver.find_element(\"xpath\",\"//div[@id = 'main_2col_in']/section[1]/div[3]/p[2]\")\n",
    "    natural_calamities.append([name.text,desc.text,article.text])\n",
    "    driver.back()\n",
    "print(natural_calamities)"
   ]
  },
  {
   "attachments": {},
   "cell_type": "markdown",
   "metadata": {},
   "source": [
    "Collecting Traffic Indices of Various Indian Cities\n",
    "Traffic Index is a composite index of time consumed in traffic due to job commute, estimation of time consumption dissatisfaction, CO2 consumption estimation in traffic and overall inefficiencies in the traffic system."
   ]
  },
  {
   "cell_type": "code",
   "execution_count": 66,
   "metadata": {},
   "outputs": [
    {
     "name": "stdout",
     "output_type": "stream",
     "text": [
      "[260.13, 200.43, 268.67, 284.49, 178.03]\n"
     ]
    }
   ],
   "source": [
    "traffic_index = [0.0]*len(cities)\n",
    "# options = Options()\n",
    "# options.headless = True\n",
    "# options.add_argument(\"--window-size=1920,1200\")\n",
    "\n",
    "DRIVER_PATH = \"/path/to/chromedriver\"\n",
    "# driver = webdriver.Chrome(options=options,executable_path=DRIVER_PATH)\n",
    "driver = webdriver.Chrome(service=Service(ChromeDriverManager().install()))\n",
    "for i in cities:\n",
    "    if i == \"New Delhi\":\n",
    "        driver.get(\"https://www.numbeo.com/traffic/in/Delhi\")\n",
    "    elif i == \"Lucknow\":\n",
    "        driver.get(\"https://www.numbeo.com/traffic/in/Lucknow-Lakhnau\")\n",
    "    else:\n",
    "        driver.get(\"https://www.numbeo.com/traffic/in/\" + i)\n",
    "    traffic = driver.find_element(\"xpath\",\"html/body/div[2]/aside/table/tbody/tr[2]/td[2]\")\n",
    "    traffic_index[dict[i]] = float(traffic.text)\n",
    "print(traffic_index)    \n",
    "#normalizing\n",
    "maxi = max(traffic_index)\n",
    "mini = min(traffic_index)\n",
    "for i in range(len(traffic_index)):\n",
    "    traffic_index[i] = ((traffic_index[i] - mini)/(maxi - mini))*5\n",
    "print(traffic_index)"
   ]
  },
  {
   "attachments": {},
   "cell_type": "markdown",
   "metadata": {},
   "source": [
    "Unemployment Rate "
   ]
  },
  {
   "cell_type": "code",
   "execution_count": 67,
   "metadata": {},
   "outputs": [
    {
     "name": "stdout",
     "output_type": "stream",
     "text": [
      "[3.8545454545454545, 3.8272727272727276, 5.79090909090909, 10.299999999999999, 3.4818181818181824]\n"
     ]
    }
   ],
   "source": [
    "df = pd.read_csv('./Unemploymnet.csv')\n",
    "# print(df)\n",
    "unemployment=[]\n",
    "\n",
    "for i in states:\n",
    "    for k in range(0,27):\n",
    "        if(i==df.loc[k][0]):\n",
    "            sum=0         \n",
    "            for y in range(1,12):\n",
    "                sum+=df.loc[k][y]\n",
    "            avg=sum/11\n",
    "            unemployment.append(avg)\n",
    "            break\n",
    "print(unemployment)\n",
    "#normalizing\n",
    "maxi = max(unemployment)\n",
    "mini = min(unemployment)\n",
    "for i in range(len(unemployment)):\n",
    "    unemployment[i] = ((unemployment[i] - mini)/(maxi - mini))*5\n",
    "print(unemployment)"
   ]
  },
  {
   "attachments": {},
   "cell_type": "markdown",
   "metadata": {},
   "source": [
    "Life Expectancy vector"
   ]
  },
  {
   "cell_type": "code",
   "execution_count": 68,
   "metadata": {},
   "outputs": [
    {
     "data": {
      "text/plain": [
       "['72.7', '72.6', '72.1', '75.9', '65.6']"
      ]
     },
     "execution_count": 68,
     "metadata": {},
     "output_type": "execute_result"
    }
   ],
   "source": [
    "dd=pd.read_csv('./Life Expectancy - Sheet1.csv')\n",
    "life_expectancy=[]\n",
    "x=0\n",
    "for i in states:\n",
    "    for k in range(2,24):\n",
    "        if(i==dd.loc[k][0]):\n",
    "            life_expectancy.append(dd.loc[k][3])\n",
    "            x=x+1\n",
    "            break\n",
    "life_expectancy\n",
    "#normalizing\n",
    "maxi = max(life_expectancy)\n",
    "mini = min(life_expectancy)\n",
    "for i in range(len(life_expectancy)):\n",
    "    life_expectancy[i] = ((life_expectancy[i] - mini)/(maxi - mini))*5\n",
    "print(life_expectancy)"
   ]
  },
  {
   "attachments": {},
   "cell_type": "markdown",
   "metadata": {},
   "source": [
    "Factories/Workers emloyed by them"
   ]
  },
  {
   "cell_type": "code",
   "execution_count": 69,
   "metadata": {},
   "outputs": [
    {
     "data": {
      "text/plain": [
       "[{25610, 2038255},\n",
       " {38837, 2663069},\n",
       " {9650, 736165},\n",
       " {3259, 108232},\n",
       " {16184, 1130778}]"
      ]
     },
     "execution_count": 69,
     "metadata": {},
     "output_type": "execute_result"
    }
   ],
   "source": [
    "file=pd.read_csv('./factories - Sheet1.csv')\n",
    "factories_workers=[]\n",
    "file.loc[0][3]\n",
    "for i in states:\n",
    "    for k in range(0,35):\n",
    "        if(i==file.loc[k][1]):\n",
    "            factories_workers.append({file.loc[k][2],file.loc[k][3]})\n",
    "            x=x+1\n",
    "            break\n",
    "factories_workers"
   ]
  },
  {
   "attachments": {},
   "cell_type": "markdown",
   "metadata": {},
   "source": [
    "Accidents/No of people killed"
   ]
  },
  {
   "cell_type": "code",
   "execution_count": 7,
   "metadata": {},
   "outputs": [
    {
     "name": "stdout",
     "output_type": "stream",
     "text": [
      "[3379, 7486, 4104, 1639]\n",
      "[1.4879425346331452, 5.0, 2.1079185907302893, 0.0]\n",
      "[562, 1183, 407, 631]\n",
      "[0.9987113402061856, 5.0, 0.0, 1.4432989690721647]\n"
     ]
    }
   ],
   "source": [
    "f1=pd.read_csv('./Accidents_road.csv')\n",
    "accidents =[]\n",
    "num_killed = []\n",
    "for i in cities:\n",
    "    for k in range(0,35):\n",
    "        if(i==f1.loc[k][1]):\n",
    "            accidents.append(f1.loc[k][2])\n",
    "            num_killed.append(f1.loc[k][3])\n",
    "            break\n",
    "print(accidents)\n",
    "#normalizing\n",
    "maxi = max(accidents)\n",
    "mini = min(accidents)\n",
    "for i in range(len(accidents)):\n",
    "    accidents[i] = ((accidents[i] - mini)/(maxi - mini))*5\n",
    "print(accidents)\n",
    "print(num_killed)\n",
    "#normalizing\n",
    "maxi = max(num_killed)\n",
    "mini = min(num_killed)\n",
    "for i in range(len(num_killed)):\n",
    "    num_killed[i] = ((num_killed[i] - mini)/(maxi - mini))*5\n",
    "print(num_killed)\n",
    "        "
   ]
  },
  {
   "cell_type": "markdown",
   "metadata": {},
   "source": []
  }
 ],
 "metadata": {
  "kernelspec": {
   "display_name": "Python 3",
   "language": "python",
   "name": "python3"
  },
  "language_info": {
   "codemirror_mode": {
    "name": "ipython",
    "version": 3
   },
   "file_extension": ".py",
   "mimetype": "text/x-python",
   "name": "python",
   "nbconvert_exporter": "python",
   "pygments_lexer": "ipython3",
   "version": "3.10.11"
  },
  "orig_nbformat": 4
 },
 "nbformat": 4,
 "nbformat_minor": 2
}
